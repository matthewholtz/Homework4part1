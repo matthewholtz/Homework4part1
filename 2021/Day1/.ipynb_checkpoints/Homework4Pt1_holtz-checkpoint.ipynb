{
 "cells": [
  {
   "cell_type": "markdown",
   "id": "2d1c5ac7-c581-4f8a-a9fe-4536ff982322",
   "metadata": {},
   "source": [
    "Will be reading in the data files"
   ]
  },
  {
   "cell_type": "code",
   "execution_count": 30,
   "id": "69e828ac-e706-4b0c-824c-8fc3f7f12cfd",
   "metadata": {},
   "outputs": [],
   "source": [
    "data_file = 'data/input'\n",
    "with open(data_file, 'r') as input:\n",
    "    lines = input.read().splitlines()"
   ]
  },
  {
   "cell_type": "markdown",
   "id": "338824f5-51a3-438e-acbe-efc25d68cd1c",
   "metadata": {},
   "source": [
    "Seeing to what is in the list Lines"
   ]
  },
  {
   "cell_type": "markdown",
   "id": "b94946cd-ea2a-4e52-8452-8d90f6204601",
   "metadata": {},
   "source": [
    "See they are strings not numbers"
   ]
  },
  {
   "cell_type": "code",
   "execution_count": 32,
   "id": "a565d269-d774-4fda-937e-7f0762e0581d",
   "metadata": {},
   "outputs": [],
   "source": [
    "lines = [int(line) for line in lines]"
   ]
  },
  {
   "cell_type": "code",
   "execution_count": null,
   "id": "6477b63d-bd53-4330-b92a-dc00681ad189",
   "metadata": {},
   "outputs": [],
   "source": [
    "changing to intergers"
   ]
  },
  {
   "cell_type": "markdown",
   "id": "487da9af-9ed5-428a-bc7d-fe074d52085b",
   "metadata": {},
   "source": [
    "Now the list is a list of intergers. "
   ]
  },
  {
   "cell_type": "code",
   "execution_count": 34,
   "id": "6eb4e104-c50f-4711-a3fd-bae71a991d95",
   "metadata": {},
   "outputs": [
    {
     "name": "stdout",
     "output_type": "stream",
     "text": [
      "Number of increasing 1139\n"
     ]
    }
   ],
   "source": [
    "c = 0\n",
    "counter = 0\n",
    "\n",
    "for a in lines:\n",
    "    if counter == 0:\n",
    "        b=a\n",
    "        counter += 1\n",
    "       \n",
    "    else:\n",
    "        if a > b:\n",
    "            c = c + 1\n",
    "          \n",
    "        b=a\n",
    "       \n",
    "\n",
    "print('Number of increasing', c)"
   ]
  },
  {
   "cell_type": "markdown",
   "id": "b42e6389-b690-40ba-b62a-800ad1beeec6",
   "metadata": {},
   "source": [
    "The following is the code for the 2nd part fo the problem. "
   ]
  },
  {
   "cell_type": "code",
   "execution_count": 49,
   "id": "7caa87d8-c749-4571-bda1-f18059387223",
   "metadata": {},
   "outputs": [],
   "source": [
    "data_file = 'data/input'\n",
    "with open(data_file, 'r') as input:\n",
    "    lines = input.read().splitlines()"
   ]
  },
  {
   "cell_type": "code",
   "execution_count": 50,
   "id": "2d17e685-403b-4162-82fa-3c5691f85ccd",
   "metadata": {},
   "outputs": [],
   "source": [
    "lines = [int(line) for line in lines]"
   ]
  },
  {
   "cell_type": "code",
   "execution_count": 51,
   "id": "4f5e85e0-330a-43f7-9dd4-1fb139ef7596",
   "metadata": {},
   "outputs": [
    {
     "name": "stdout",
     "output_type": "stream",
     "text": [
      "Number of increasing 1103\n"
     ]
    }
   ],
   "source": [
    "# Variable section that will keep track of everything. \n",
    "# c will keep track of how many sets of data is greater than the previous set\n",
    "c = 0\n",
    "# counter will keep track of where we are in the calculation\n",
    "counter = 0\n",
    "#First and Second sum are the sets that we will be comparing. Third sum is the temp location of extra numbers that have not formed a set yet\n",
    "Firstsum = 0\n",
    "Secondsum = 0\n",
    "Thirdsum = 0\n",
    "# This is the loop that will grab all the data from the data file. \n",
    "for a in lines:\n",
    "# This is the first step in that it grabs the fist value and puts it in to first sum and incrementing counter.   \n",
    "    if counter == 0:\n",
    "        Firstsum += a \n",
    "        counter += 1\n",
    "#This is seond step that that grabs the second value and puts it in to both the first and second sum and incrementing counter.   \n",
    "    else:\n",
    "        if counter == 1:\n",
    "            Firstsum += a\n",
    "            Secondsum += a\n",
    "            counter += 1\n",
    " #this is the third step that takes the third value into all of the sums and incrementing counter.   \n",
    "        else:\n",
    "            if counter == 2:\n",
    "                Firstsum += a\n",
    "                Secondsum += a\n",
    "                Thirdsum += a\n",
    "                counter += 1\n",
    "# This is the Step that does the most work. \n",
    "# It does not add any to the first value and adds to the second and third. \n",
    "# so now we have 3 vlaues in first and second and 2 in third            \n",
    "            else:\n",
    "                Secondsum += a\n",
    "                Thirdsum += a\n",
    "# we now find out if secondsum is greater than first. If it is c is increased by one. \n",
    "                if Secondsum > Firstsum:\n",
    "                    c += 1\n",
    "# at this point we are reseting the variables. We are moving the three values from second sum to First sum\n",
    "# we are moving the 2 values to the second sum, we are putting the current value into the thrid sum\n",
    "# we are putting counter to three. What this will do is now It will only run through this step for the rest of the time in the loop. \n",
    "# So what this part of the loop does is compairs the curent set of numbers with the previous set. if greater incrament. \n",
    "# Then moves current set of numbers to previous set of numbers and then gets everything ready to to compair again.                 \n",
    "            \n",
    "                Firstsum = Secondsum\n",
    "                Secondsum = Thirdsum\n",
    "                Thirdsum = a\n",
    "                counter = 3\n",
    "# prints out number of how many sets of numbers that are greater than the previous set of number. \n",
    "print('Number of increasing', c)"
   ]
  },
  {
   "cell_type": "code",
   "execution_count": null,
   "id": "e29730ef-7e9c-44d3-a6f1-904b3e7292dc",
   "metadata": {},
   "outputs": [],
   "source": []
  }
 ],
 "metadata": {
  "kernelspec": {
   "display_name": "Python [conda env:datasci]",
   "language": "python",
   "name": "conda-env-datasci-py"
  },
  "language_info": {
   "codemirror_mode": {
    "name": "ipython",
    "version": 3
   },
   "file_extension": ".py",
   "mimetype": "text/x-python",
   "name": "python",
   "nbconvert_exporter": "python",
   "pygments_lexer": "ipython3",
   "version": "3.13.2"
  }
 },
 "nbformat": 4,
 "nbformat_minor": 5
}
