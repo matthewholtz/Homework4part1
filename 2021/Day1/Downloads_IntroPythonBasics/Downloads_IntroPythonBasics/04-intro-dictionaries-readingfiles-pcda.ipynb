{
 "cells": [
  {
   "cell_type": "markdown",
   "metadata": {},
   "source": [
    "Introduction to dictionaries and reading files\n",
    "===================================================="
   ]
  },
  {
   "cell_type": "markdown",
   "metadata": {},
   "source": [
    "Dictionaries are data structures consisting of an unordered collection of *key-value pairs*. Some languages refer to dictionaries as *associative arrays*. The basic idea is that you can reference items by their key value as opposed to an index location (as you'd do in a numpy ndarray or a list). They are like \"lookup tables\" in some sense. Each key-value pair is separated by commas and the collection surrounded by curly braces (squiqqly brackets)."
   ]
  },
  {
   "cell_type": "code",
   "execution_count": 1,
   "metadata": {},
   "outputs": [
    {
     "name": "stdout",
     "output_type": "stream",
     "text": [
      "<class 'dict'>\n",
      "{'start': 1, 'stop': 10, 'step': 1}\n"
     ]
    }
   ],
   "source": [
    "# Create a dictionary with three items in it. Note\n",
    "# the curly braces used when **constructing** a dictionary.\n",
    "\n",
    "params = {\"start\" : 1,\n",
    "          \"stop\" : 10,\n",
    "          \"step\" : 1}\n",
    "\n",
    "print(type(params))\n",
    "print(params)"
   ]
  },
  {
   "cell_type": "markdown",
   "metadata": {},
   "source": [
    "To reference a specific value, just use its key. Notice the square brackets when **referencing** dictionary elements."
   ]
  },
  {
   "cell_type": "code",
   "execution_count": 2,
   "metadata": {},
   "outputs": [
    {
     "data": {
      "text/plain": [
       "10"
      ]
     },
     "execution_count": 2,
     "metadata": {},
     "output_type": "execute_result"
    }
   ],
   "source": [
    "params[\"stop\"]"
   ]
  },
  {
   "cell_type": "markdown",
   "metadata": {},
   "source": [
    "Modifying existing dictionary elements is easy."
   ]
  },
  {
   "cell_type": "code",
   "execution_count": 3,
   "metadata": {},
   "outputs": [
    {
     "name": "stdout",
     "output_type": "stream",
     "text": [
      "{'start': 'A', 'stop': 'B', 'step': 1, 'note': 'Dictionaries can store values having differing types'}\n"
     ]
    }
   ],
   "source": [
    "# Look, we can even change data types on the fly and mix different data\n",
    "# types together in the same dictionary. That's what dictionaries are great for.\n",
    "\n",
    "params[\"start\"] = \"A\"\n",
    "params[\"stop\"] = \"B\"\n",
    "\n",
    "# add a new entry\n",
    "params[\"note\"] = \"Dictionaries can store values having differing types\"\n",
    "\n",
    "print(params)"
   ]
  },
  {
   "cell_type": "markdown",
   "metadata": {},
   "source": [
    "Dictionaries have numerous properties and methods. Let's explore a few."
   ]
  },
  {
   "cell_type": "code",
   "execution_count": 14,
   "metadata": {
    "tags": []
   },
   "outputs": [],
   "source": [
    "# Recreate our params dict\n",
    "params = {\"start\" : 1,\n",
    "          \"stop\" : 10,\n",
    "          \"step\" : 2}"
   ]
  },
  {
   "cell_type": "markdown",
   "metadata": {},
   "source": [
    "To check if a key exists, we can use the `in` keyword and the collection of dictionary keys."
   ]
  },
  {
   "cell_type": "code",
   "execution_count": 4,
   "metadata": {},
   "outputs": [
    {
     "name": "stdout",
     "output_type": "stream",
     "text": [
      "Yes, step is a valid key\n"
     ]
    }
   ],
   "source": [
    "# Does a certain key exist\n",
    "\n",
    "param = 'step'\n",
    "\n",
    "if param in params.keys():\n",
    "    print(f'Yes, {param} is a valid key')\n",
    "else:\n",
    "    print(f'No, {param} is NOT a valid key')"
   ]
  },
  {
   "cell_type": "code",
   "execution_count": 5,
   "metadata": {},
   "outputs": [
    {
     "data": {
      "text/plain": [
       "dict_keys(['start', 'stop', 'step', 'note'])"
      ]
     },
     "execution_count": 5,
     "metadata": {},
     "output_type": "execute_result"
    }
   ],
   "source": [
    "params.keys()"
   ]
  },
  {
   "cell_type": "code",
   "execution_count": 6,
   "metadata": {},
   "outputs": [
    {
     "name": "stdout",
     "output_type": "stream",
     "text": [
      "start\n",
      "stop\n",
      "step\n",
      "note\n"
     ]
    }
   ],
   "source": [
    "# iterate over the keys\n",
    "for k in params.keys():\n",
    "    print (k)"
   ]
  },
  {
   "cell_type": "markdown",
   "metadata": {},
   "source": [
    "**IMPORTANT:** Before Python 3.7, keys were **not** guaranteed to be sorted in any way. As of Python 3.7, the order in which keys are inserted is preserved as the key ordering."
   ]
  },
  {
   "cell_type": "markdown",
   "metadata": {},
   "source": [
    "What if we want to list out the key, value pairs for a dictionary. The `dict.items()` method does this. Technically it returns something known as a *view*. However, it's iterable and behaves like a list of tuples. Let's see this."
   ]
  },
  {
   "cell_type": "code",
   "execution_count": 9,
   "metadata": {},
   "outputs": [
    {
     "name": "stdout",
     "output_type": "stream",
     "text": [
      "key=start, value=A\n",
      "key=stop, value=B\n",
      "key=step, value=1\n",
      "key=note, value=Dictionaries can store values having differing types\n"
     ]
    }
   ],
   "source": [
    "for key, val in params.items():\n",
    "    print(f'key={key}, value={val}')"
   ]
  },
  {
   "cell_type": "markdown",
   "metadata": {},
   "source": [
    "Example: Using dictionaries as a container counts\n",
    "-------------------------------------------------\n",
    "\n",
    "In one of the examples we'll explore, we are going to use dictionaries to hold the values of counts of website hits per month based on an apache log file. The records look like:\n",
    "\n",
    "    local - - [24/Oct/1994:13:41:41 -0600] \"GET index.html HTTP/1.0\" 200 150\n",
    "    local - - [24/Oct/1994:13:41:41 -0600] \"GET 1.gif HTTP/1.0\" 200 1210\n",
    "    local - - [24/Oct/1994:13:43:13 -0600] \"GET index.html HTTP/1.0\" 200 3185\n",
    "    local - - [24/Oct/1994:13:43:14 -0600] \"GET 2.gif HTTP/1.0\" 200 2555\n",
    "    local - - [24/Oct/1994:13:43:15 -0600] \"GET 3.gif HTTP/1.0\" 200 36403\n",
    "    local - - [24/Oct/1994:13:43:17 -0600] \"GET 4.gif HTTP/1.0\" 200 441\n",
    "    \n",
    "Each month is represented by a three character abbreviation. Let's say that our basic strategy is to:\n",
    "\n",
    "* create an empty dictionary called `monthly_counts`\n",
    "* read a line, get the month into a variable. For example, month = 'Oct'\n",
    "* Increment the counts for that month via `monthly_counts[month] = monthly_counts[month] + 1`"
   ]
  },
  {
   "cell_type": "code",
   "execution_count": 19,
   "metadata": {},
   "outputs": [],
   "source": [
    "# Create an empty dictionary\n",
    "monthly_counts = {}"
   ]
  },
  {
   "cell_type": "markdown",
   "metadata": {},
   "source": [
    "Now, let's assume that the variable `month` has the value 'Oct'. What happens if we try to increment the dictionary value for that key?"
   ]
  },
  {
   "cell_type": "code",
   "execution_count": 20,
   "metadata": {},
   "outputs": [
    {
     "ename": "KeyError",
     "evalue": "'Oct'",
     "output_type": "error",
     "traceback": [
      "\u001b[0;31m---------------------------------------------------------------------------\u001b[0m",
      "\u001b[0;31mKeyError\u001b[0m                                  Traceback (most recent call last)",
      "\u001b[0;32m<ipython-input-20-cc2b6012e575>\u001b[0m in \u001b[0;36m<module>\u001b[0;34m\u001b[0m\n\u001b[1;32m      1\u001b[0m \u001b[0mmonth\u001b[0m \u001b[0;34m=\u001b[0m \u001b[0;34m'Oct'\u001b[0m\u001b[0;34m\u001b[0m\u001b[0;34m\u001b[0m\u001b[0m\n\u001b[0;32m----> 2\u001b[0;31m \u001b[0mmonthly_counts\u001b[0m\u001b[0;34m[\u001b[0m\u001b[0mmonth\u001b[0m\u001b[0;34m]\u001b[0m \u001b[0;34m=\u001b[0m \u001b[0mmonthly_counts\u001b[0m\u001b[0;34m[\u001b[0m\u001b[0mmonth\u001b[0m\u001b[0;34m]\u001b[0m \u001b[0;34m+\u001b[0m \u001b[0;36m1\u001b[0m\u001b[0;34m\u001b[0m\u001b[0;34m\u001b[0m\u001b[0m\n\u001b[0m",
      "\u001b[0;31mKeyError\u001b[0m: 'Oct'"
     ]
    }
   ],
   "source": [
    "month = 'Oct'\n",
    "monthly_counts[month] = monthly_counts[month] + 1"
   ]
  },
  {
   "cell_type": "markdown",
   "metadata": {},
   "source": [
    "Ah, so if we haven't added a key yet, we can't assume it starts out with a value of 0 (or anything else, for that matter). Of course, we could simply add a bunch of initialization lines such as `monthly_counts['Jan'] = 0`, `monthly_counts['Feb'] = 0`, and so on. However, there's another way of accessing a dictionary value using its `get` method. The beauty of the `get` method is that it has an optional second parameter in which you can specify the return value if the key doesn't exist.\n",
    "\n"
   ]
  },
  {
   "cell_type": "code",
   "execution_count": 21,
   "metadata": {},
   "outputs": [
    {
     "data": {
      "text/plain": [
       "0"
      ]
     },
     "execution_count": 21,
     "metadata": {},
     "output_type": "execute_result"
    }
   ],
   "source": [
    "monthly_counts.get('Oct', 0)"
   ]
  },
  {
   "cell_type": "code",
   "execution_count": 22,
   "metadata": {},
   "outputs": [
    {
     "name": "stdout",
     "output_type": "stream",
     "text": [
      "1\n"
     ]
    }
   ],
   "source": [
    "month = 'Oct'\n",
    "monthly_counts[month] = monthly_counts.get(month,0) + 1\n",
    "print (monthly_counts['Oct'])"
   ]
  },
  {
   "cell_type": "markdown",
   "metadata": {},
   "source": [
    "Reading Files\n",
    "-------------\n",
    "\n",
    "So far we've just loaded data into numpy arrays using `loadtxt`. Soon we'll use the `csv` package for doing a similar thing. When we learn Pandas we'll see functions like `read_csv`. However, often you need to read a text file line by line and do some data scraping, parsing, manipulating, transforming, ..., whatever. Here are a few of the basic ideas."
   ]
  },
  {
   "cell_type": "markdown",
   "metadata": {},
   "source": [
    "### Example 1: open file, read a line, strip, print, repeat until no more lines, close file"
   ]
  },
  {
   "cell_type": "code",
   "execution_count": 1,
   "metadata": {},
   "outputs": [
    {
     "name": "stdout",
     "output_type": "stream",
     "text": [
      "     1: local - - [24/Oct/1994:13:41:41 -0600] \"GET index.html HTTP/1.0\" 200 150\n",
      "     2: local - - [24/Oct/1994:13:41:41 -0600] \"GET 1.gif HTTP/1.0\" 200 1210\n",
      "     3: local - - [24/Oct/1994:13:43:13 -0600] \"GET index.html HTTP/1.0\" 200 3185\n",
      "     4: local - - [24/Oct/1994:13:43:14 -0600] \"GET 2.gif HTTP/1.0\" 200 2555\n",
      "     5: local - - [24/Oct/1994:13:43:15 -0600] \"GET 3.gif HTTP/1.0\" 200 36403\n",
      "     6: local - - [24/Oct/1994:13:43:17 -0600] \"GET 4.gif HTTP/1.0\" 200 441\n",
      "     7: local - - [24/Oct/1994:13:46:45 -0600] \"GET index.html HTTP/1.0\" 200 3185\n",
      "     8: local - - [24/Oct/1994:13:46:45 -0600] \"GET 2.gif HTTP/1.0\" 200 2555\n",
      "     9: local - - [24/Oct/1994:13:46:47 -0600] \"GET 3.gif HTTP/1.0\" 200 36403\n",
      "    10: local - - [24/Oct/1994:13:46:50 -0600] \"GET 4.gif HTTP/1.0\" 200 441\n",
      "    11: local - - [24/Oct/1994:13:47:19 -0600] \"GET index.html HTTP/1.0\" 200 150\n",
      "    12: local - - [24/Oct/1994:13:47:19 -0600] \"GET 1.gif HTTP/1.0\" 200 1210\n",
      "    13: local - - [24/Oct/1994:13:47:41 -0600] \"GET index.html HTTP/1.0\" 200 3185\n",
      "    14: local - - [24/Oct/1994:13:47:50 -0600] \"GET 5.html HTTP/1.0\" 200 2065\n",
      "    15: local - - [24/Oct/1994:13:48:11 -0600] \"GET 6.html HTTP/1.0\" 200 1124\n",
      "    16: local - - [24/Oct/1994:13:48:23 -0600] \"GET 7.html HTTP/1.0\" 200 1538\n",
      "    17: local - - [24/Oct/1994:13:48:51 -0600] \"GET 8.html HTTP/1.0\" 200 322\n",
      "    18: local - - [24/Oct/1994:13:49:01 -0600] \"GET index.html HTTP/1.0\" 302 -\n",
      "    19: local - - [24/Oct/1994:13:49:01 -0600] \"GET index.html HTTP/1.0\" 200 999\n",
      "    20: local - - [24/Oct/1994:13:49:14 -0600] \"GET 9.html HTTP/1.0\" 200 1248\n",
      "    21: local - - [24/Oct/1994:13:49:20 -0600] \"GET index.html HTTP/1.0\" 200 3185\n",
      "    22: local - - [24/Oct/1994:13:49:21 -0600] \"GET 2.gif HTTP/1.0\" 200 2555\n",
      "    23: local - - [24/Oct/1994:13:49:25 -0600] \"GET 3.gif HTTP/1.0\" 200 36403\n",
      "    24: local - - [24/Oct/1994:13:49:27 -0600] \"GET 4.gif HTTP/1.0\" 200 441\n",
      "    25: local - - [24/Oct/1994:13:49:39 -0600] \"GET index.html HTTP/1.0\" 200 150\n",
      "    26: local - - [24/Oct/1994:13:49:49 -0600] \"GET 10.html HTTP/1.0\" 200 2286\n",
      "    27: local - - [24/Oct/1994:13:50:33 -0600] \"GET index.html HTTP/1.0\" 200 150\n",
      "    28: local - - [24/Oct/1994:13:55:03 -0600] \"GET 11.html HTTP/1.0\" 200 1213\n",
      "    29: local - - [24/Oct/1994:13:55:04 -0600] \"GET 11.html HTTP/1.0\" 200 1213\n",
      "    30: local - - [24/Oct/1994:13:55:08 -0600] \"GET 12.gif HTTP/1.0\" 200 191\n",
      "    31: local - - [24/Oct/1994:13:55:21 -0600] \"GET 13.gif HTTP/1.0\" 200 33974\n",
      "    32: local - - [24/Oct/1994:13:59:48 -0600] \"GET index.html HTTP/1.0\" 200 3185\n",
      "    33: local - - [24/Oct/1994:13:59:55 -0600] \"GET 14.html HTTP/1.0\" 304 0\n",
      "    34: local - - [24/Oct/1994:14:00:06 -0600] \"GET index.html HTTP/1.0\" 200 3100\n",
      "    35: local - - [24/Oct/1994:14:00:20 -0600] \"GET index.html HTTP/1.0\" 302 -\n",
      "    36: local - - [24/Oct/1994:14:00:20 -0600] \"GET index.html HTTP/1.0\" 200 631\n",
      "    37: local - - [24/Oct/1994:14:00:25 -0600] \"GET 15.html HTTP/1.0\" 200 861\n",
      "    38: local - - [24/Oct/1994:14:00:49 -0600] \"GET index.html HTTP/1.0\" 200 631\n",
      "    39: local - - [24/Oct/1994:14:00:52 -0600] \"GET 16.html HTTP/1.0\" 200 1006\n",
      "    40: local - - [24/Oct/1994:14:01:02 -0600] \"GET index.html HTTP/1.0\" 200 150\n",
      "    41: local - - [24/Oct/1994:14:01:11 -0600] \"GET 17.html HTTP/1.0\" 200 881\n",
      "    42: local - - [24/Oct/1994:14:01:24 -0600] \"GET 18.html HTTP/1.0\" 200 709\n",
      "    43: local - - [24/Oct/1994:14:01:42 -0600] \"GET 19.html HTTP/1.0\" 200 1357\n",
      "    44: local - - [24/Oct/1994:14:02:01 -0600] \"GET index.html HTTP/1.0\" 200 391\n",
      "    45: remote - - [24/Oct/1994:14:03:32 -0600] \"GET 20.html HTTP/1.0\" 200 1530\n",
      "    46: remote - - [24/Oct/1994:14:03:36 -0600] \"GET 21.gif HTTP/1.0\" 200 59975\n",
      "    47: local - - [24/Oct/1994:14:03:39 -0600] \"GET index.html HTTP/1.0\" 200 410\n",
      "    48: remote - - [24/Oct/1994:14:03:49 -0600] \"GET 22.html HTTP/1.0\" 200 7151\n",
      "    49: local - - [24/Oct/1994:14:04:22 -0600] \"GET index.html HTTP/1.0\" 200 410\n",
      "    50: local - - [24/Oct/1994:14:05:17 -0600] \"GET index.html HTTP/1.0\" 200 419\n"
     ]
    }
   ],
   "source": [
    "# Store input filename in variable. Include necessary path info.\n",
    "in_filename= \"data/apache-mini.log\"\n",
    "\n",
    "# Open the input file for reading. in_file is a \"file object\" or \"file handle\".\n",
    "in_file = open(in_filename, 'r')\n",
    "\n",
    "# Init counter to keep track of line numbers (not necessary but sometimes useful)\n",
    "line_number = 0\n",
    "\n",
    "# Loop through each line in the file. Check out the nice looping syntax for traversing a file.\n",
    "for line in in_file:\n",
    "    # The variable line contains the current line as one big string and includes things like\n",
    "    # end of line characters. Also, to be clear, 'line' is a variable name we made up. We could have\n",
    "    # called it 'peanutbutter' had we chose to.\n",
    "    \n",
    "    # Let's strip off any end of line characters\n",
    "    # After running this cell, let's comment out this line to see what happens.\n",
    "    line = line.rstrip()\n",
    "    \n",
    "    # Increment the line counter\n",
    "    line_number += 1\n",
    "    \n",
    "    # Print the line and line number. What do you think the ':6' is for? Hint: There are < 1 million rows.\n",
    "    print(f'{line_number:6}: {line}')\n",
    "    \n",
    "# After the loop is done, close the file\n",
    "in_file.close()"
   ]
  },
  {
   "cell_type": "code",
   "execution_count": 2,
   "metadata": {},
   "outputs": [
    {
     "data": {
      "text/plain": [
       "_io.TextIOWrapper"
      ]
     },
     "execution_count": 2,
     "metadata": {},
     "output_type": "execute_result"
    }
   ],
   "source": [
    "# What is in_file?\n",
    "\n",
    "type(in_file)"
   ]
  },
  {
   "cell_type": "markdown",
   "metadata": {},
   "source": [
    "### Example 2: an alternate way of opening and closing\n",
    "\n",
    "Now let's see a more \"Pythonic\" way of working with files"
   ]
  },
  {
   "cell_type": "code",
   "execution_count": 23,
   "metadata": {},
   "outputs": [
    {
     "name": "stdout",
     "output_type": "stream",
     "text": [
      "     1: local - - [24/Oct/1994:13:41:41 -0600] \"GET index.html HTTP/1.0\" 200 150\n",
      "     2: local - - [24/Oct/1994:13:41:41 -0600] \"GET 1.gif HTTP/1.0\" 200 1210\n",
      "     3: local - - [24/Oct/1994:13:43:13 -0600] \"GET index.html HTTP/1.0\" 200 3185\n",
      "     4: local - - [24/Oct/1994:13:43:14 -0600] \"GET 2.gif HTTP/1.0\" 200 2555\n",
      "     5: local - - [24/Oct/1994:13:43:15 -0600] \"GET 3.gif HTTP/1.0\" 200 36403\n",
      "     6: local - - [24/Oct/1994:13:43:17 -0600] \"GET 4.gif HTTP/1.0\" 200 441\n",
      "     7: local - - [24/Oct/1994:13:46:45 -0600] \"GET index.html HTTP/1.0\" 200 3185\n",
      "     8: local - - [24/Oct/1994:13:46:45 -0600] \"GET 2.gif HTTP/1.0\" 200 2555\n",
      "     9: local - - [24/Oct/1994:13:46:47 -0600] \"GET 3.gif HTTP/1.0\" 200 36403\n",
      "    10: local - - [24/Oct/1994:13:46:50 -0600] \"GET 4.gif HTTP/1.0\" 200 441\n",
      "    11: local - - [24/Oct/1994:13:47:19 -0600] \"GET index.html HTTP/1.0\" 200 150\n",
      "    12: local - - [24/Oct/1994:13:47:19 -0600] \"GET 1.gif HTTP/1.0\" 200 1210\n",
      "    13: local - - [24/Oct/1994:13:47:41 -0600] \"GET index.html HTTP/1.0\" 200 3185\n",
      "    14: local - - [24/Oct/1994:13:47:50 -0600] \"GET 5.html HTTP/1.0\" 200 2065\n",
      "    15: local - - [24/Oct/1994:13:48:11 -0600] \"GET 6.html HTTP/1.0\" 200 1124\n",
      "    16: local - - [24/Oct/1994:13:48:23 -0600] \"GET 7.html HTTP/1.0\" 200 1538\n",
      "    17: local - - [24/Oct/1994:13:48:51 -0600] \"GET 8.html HTTP/1.0\" 200 322\n",
      "    18: local - - [24/Oct/1994:13:49:01 -0600] \"GET index.html HTTP/1.0\" 302 -\n",
      "    19: local - - [24/Oct/1994:13:49:01 -0600] \"GET index.html HTTP/1.0\" 200 999\n",
      "    20: local - - [24/Oct/1994:13:49:14 -0600] \"GET 9.html HTTP/1.0\" 200 1248\n",
      "    21: local - - [24/Oct/1994:13:49:20 -0600] \"GET index.html HTTP/1.0\" 200 3185\n",
      "    22: local - - [24/Oct/1994:13:49:21 -0600] \"GET 2.gif HTTP/1.0\" 200 2555\n",
      "    23: local - - [24/Oct/1994:13:49:25 -0600] \"GET 3.gif HTTP/1.0\" 200 36403\n",
      "    24: local - - [24/Oct/1994:13:49:27 -0600] \"GET 4.gif HTTP/1.0\" 200 441\n",
      "    25: local - - [24/Oct/1994:13:49:39 -0600] \"GET index.html HTTP/1.0\" 200 150\n",
      "    26: local - - [24/Oct/1994:13:49:49 -0600] \"GET 10.html HTTP/1.0\" 200 2286\n",
      "    27: local - - [24/Oct/1994:13:50:33 -0600] \"GET index.html HTTP/1.0\" 200 150\n",
      "    28: local - - [24/Oct/1994:13:55:03 -0600] \"GET 11.html HTTP/1.0\" 200 1213\n",
      "    29: local - - [24/Oct/1994:13:55:04 -0600] \"GET 11.html HTTP/1.0\" 200 1213\n",
      "    30: local - - [24/Oct/1994:13:55:08 -0600] \"GET 12.gif HTTP/1.0\" 200 191\n",
      "    31: local - - [24/Oct/1994:13:55:21 -0600] \"GET 13.gif HTTP/1.0\" 200 33974\n",
      "    32: local - - [24/Oct/1994:13:59:48 -0600] \"GET index.html HTTP/1.0\" 200 3185\n",
      "    33: local - - [24/Oct/1994:13:59:55 -0600] \"GET 14.html HTTP/1.0\" 304 0\n",
      "    34: local - - [24/Oct/1994:14:00:06 -0600] \"GET index.html HTTP/1.0\" 200 3100\n",
      "    35: local - - [24/Oct/1994:14:00:20 -0600] \"GET index.html HTTP/1.0\" 302 -\n",
      "    36: local - - [24/Oct/1994:14:00:20 -0600] \"GET index.html HTTP/1.0\" 200 631\n",
      "    37: local - - [24/Oct/1994:14:00:25 -0600] \"GET 15.html HTTP/1.0\" 200 861\n",
      "    38: local - - [24/Oct/1994:14:00:49 -0600] \"GET index.html HTTP/1.0\" 200 631\n",
      "    39: local - - [24/Oct/1994:14:00:52 -0600] \"GET 16.html HTTP/1.0\" 200 1006\n",
      "    40: local - - [24/Oct/1994:14:01:02 -0600] \"GET index.html HTTP/1.0\" 200 150\n",
      "    41: local - - [24/Oct/1994:14:01:11 -0600] \"GET 17.html HTTP/1.0\" 200 881\n",
      "    42: local - - [24/Oct/1994:14:01:24 -0600] \"GET 18.html HTTP/1.0\" 200 709\n",
      "    43: local - - [24/Oct/1994:14:01:42 -0600] \"GET 19.html HTTP/1.0\" 200 1357\n",
      "    44: local - - [24/Oct/1994:14:02:01 -0600] \"GET index.html HTTP/1.0\" 200 391\n",
      "    45: remote - - [24/Oct/1994:14:03:32 -0600] \"GET 20.html HTTP/1.0\" 200 1530\n",
      "    46: remote - - [24/Oct/1994:14:03:36 -0600] \"GET 21.gif HTTP/1.0\" 200 59975\n",
      "    47: local - - [24/Oct/1994:14:03:39 -0600] \"GET index.html HTTP/1.0\" 200 410\n",
      "    48: remote - - [24/Oct/1994:14:03:49 -0600] \"GET 22.html HTTP/1.0\" 200 7151\n",
      "    49: local - - [24/Oct/1994:14:04:22 -0600] \"GET index.html HTTP/1.0\" 200 410\n",
      "    50: local - - [24/Oct/1994:14:05:17 -0600] \"GET index.html HTTP/1.0\" 200 419\n",
      "\n",
      "File already closed.\n"
     ]
    }
   ],
   "source": [
    "# Store input filename in variable. Include necessary path info.\n",
    "in_filename = \"data/apache-mini.log\"\n",
    "\n",
    "# Init counter to keep track of line numbers (not necessary but sometimes useful)\n",
    "line_number = 0\n",
    "\n",
    "# Open the input file for reading using a `with` block\n",
    "with open(in_filename, 'r') as in_file:\n",
    "    # Loop through each line in the file. Check out the nice looping syntax for traversing a file.\n",
    "    for line in in_file:\n",
    "        # The variable Line contains the current line as one big string and includes things like\n",
    "        # end of line characters. \n",
    "        \n",
    "        # Let's strip off any end of line characters\n",
    "        line = line.rstrip()\n",
    "        \n",
    "        # Increment the line counter\n",
    "        line_number += 1\n",
    "        \n",
    "        # Print the line and line number\n",
    "        print(f'{line_number:6}: {line}')\n",
    "                \n",
    "# After the loop is done,  there is no need to close the file. It's already been\n",
    "# closed for you. :) To see that:\n",
    "\n",
    "if in_file.closed:\n",
    "    print(\"\\nFile already closed.\")\n",
    "else:\n",
    "    print(\"\\nFile NOT closed yet\")\n"
   ]
  },
  {
   "cell_type": "markdown",
   "metadata": {},
   "source": [
    "### Example 3: splitting lines into a list\n",
    "\n",
    "One common thing you might want to do when reading a formatted text file, is to split each line on some sort of special character such as a comma, tab, or space. Let's split the apache log on space - each line will become a list. We'll store each of these lists in a master list. Sometimes this can do exactly what you need in terms of getting lines ready for import into something like a Pandas DataFrame. \n",
    "\n",
    "We can always use more powerful tools like [regex](http://regexr.com/) to do this job. And of course, Python supports regex. We'll see this a little later."
   ]
  },
  {
   "cell_type": "code",
   "execution_count": 24,
   "metadata": {},
   "outputs": [
    {
     "name": "stdout",
     "output_type": "stream",
     "text": [
      "[['local', '-', '-', '24/Oct/1994:13:41:41', '-0600', '\"GET', 'index.html', 'HTTP/1.0\"', '200', '150'], ['local', '-', '-', '24/Oct/1994:13:41:41', '-0600', '\"GET', '1.gif', 'HTTP/1.0\"', '200', '1210'], ['local', '-', '-', '24/Oct/1994:13:43:13', '-0600', '\"GET', 'index.html', 'HTTP/1.0\"', '200', '3185'], ['local', '-', '-', '24/Oct/1994:13:43:14', '-0600', '\"GET', '2.gif', 'HTTP/1.0\"', '200', '2555'], ['local', '-', '-', '24/Oct/1994:13:43:15', '-0600', '\"GET', '3.gif', 'HTTP/1.0\"', '200', '36403'], ['local', '-', '-', '24/Oct/1994:13:43:17', '-0600', '\"GET', '4.gif', 'HTTP/1.0\"', '200', '441'], ['local', '-', '-', '24/Oct/1994:13:46:45', '-0600', '\"GET', 'index.html', 'HTTP/1.0\"', '200', '3185'], ['local', '-', '-', '24/Oct/1994:13:46:45', '-0600', '\"GET', '2.gif', 'HTTP/1.0\"', '200', '2555'], ['local', '-', '-', '24/Oct/1994:13:46:47', '-0600', '\"GET', '3.gif', 'HTTP/1.0\"', '200', '36403'], ['local', '-', '-', '24/Oct/1994:13:46:50', '-0600', '\"GET', '4.gif', 'HTTP/1.0\"', '200', '441'], ['local', '-', '-', '24/Oct/1994:13:47:19', '-0600', '\"GET', 'index.html', 'HTTP/1.0\"', '200', '150'], ['local', '-', '-', '24/Oct/1994:13:47:19', '-0600', '\"GET', '1.gif', 'HTTP/1.0\"', '200', '1210'], ['local', '-', '-', '24/Oct/1994:13:47:41', '-0600', '\"GET', 'index.html', 'HTTP/1.0\"', '200', '3185'], ['local', '-', '-', '24/Oct/1994:13:47:50', '-0600', '\"GET', '5.html', 'HTTP/1.0\"', '200', '2065'], ['local', '-', '-', '24/Oct/1994:13:48:11', '-0600', '\"GET', '6.html', 'HTTP/1.0\"', '200', '1124'], ['local', '-', '-', '24/Oct/1994:13:48:23', '-0600', '\"GET', '7.html', 'HTTP/1.0\"', '200', '1538'], ['local', '-', '-', '24/Oct/1994:13:48:51', '-0600', '\"GET', '8.html', 'HTTP/1.0\"', '200', '322'], ['local', '-', '-', '24/Oct/1994:13:49:01', '-0600', '\"GET', 'index.html', 'HTTP/1.0\"', '302', '-'], ['local', '-', '-', '24/Oct/1994:13:49:01', '-0600', '\"GET', 'index.html', 'HTTP/1.0\"', '200', '999'], ['local', '-', '-', '24/Oct/1994:13:49:14', '-0600', '\"GET', '9.html', 'HTTP/1.0\"', '200', '1248'], ['local', '-', '-', '24/Oct/1994:13:49:20', '-0600', '\"GET', 'index.html', 'HTTP/1.0\"', '200', '3185'], ['local', '-', '-', '24/Oct/1994:13:49:21', '-0600', '\"GET', '2.gif', 'HTTP/1.0\"', '200', '2555'], ['local', '-', '-', '24/Oct/1994:13:49:25', '-0600', '\"GET', '3.gif', 'HTTP/1.0\"', '200', '36403'], ['local', '-', '-', '24/Oct/1994:13:49:27', '-0600', '\"GET', '4.gif', 'HTTP/1.0\"', '200', '441'], ['local', '-', '-', '24/Oct/1994:13:49:39', '-0600', '\"GET', 'index.html', 'HTTP/1.0\"', '200', '150'], ['local', '-', '-', '24/Oct/1994:13:49:49', '-0600', '\"GET', '10.html', 'HTTP/1.0\"', '200', '2286'], ['local', '-', '-', '24/Oct/1994:13:50:33', '-0600', '\"GET', 'index.html', 'HTTP/1.0\"', '200', '150'], ['local', '-', '-', '24/Oct/1994:13:55:03', '-0600', '\"GET', '11.html', 'HTTP/1.0\"', '200', '1213'], ['local', '-', '-', '24/Oct/1994:13:55:04', '-0600', '\"GET', '11.html', 'HTTP/1.0\"', '200', '1213'], ['local', '-', '-', '24/Oct/1994:13:55:08', '-0600', '\"GET', '12.gif', 'HTTP/1.0\"', '200', '191'], ['local', '-', '-', '24/Oct/1994:13:55:21', '-0600', '\"GET', '13.gif', 'HTTP/1.0\"', '200', '33974'], ['local', '-', '-', '24/Oct/1994:13:59:48', '-0600', '\"GET', 'index.html', 'HTTP/1.0\"', '200', '3185'], ['local', '-', '-', '24/Oct/1994:13:59:55', '-0600', '\"GET', '14.html', 'HTTP/1.0\"', '304', '0'], ['local', '-', '-', '24/Oct/1994:14:00:06', '-0600', '\"GET', 'index.html', 'HTTP/1.0\"', '200', '3100'], ['local', '-', '-', '24/Oct/1994:14:00:20', '-0600', '\"GET', 'index.html', 'HTTP/1.0\"', '302', '-'], ['local', '-', '-', '24/Oct/1994:14:00:20', '-0600', '\"GET', 'index.html', 'HTTP/1.0\"', '200', '631'], ['local', '-', '-', '24/Oct/1994:14:00:25', '-0600', '\"GET', '15.html', 'HTTP/1.0\"', '200', '861'], ['local', '-', '-', '24/Oct/1994:14:00:49', '-0600', '\"GET', 'index.html', 'HTTP/1.0\"', '200', '631'], ['local', '-', '-', '24/Oct/1994:14:00:52', '-0600', '\"GET', '16.html', 'HTTP/1.0\"', '200', '1006'], ['local', '-', '-', '24/Oct/1994:14:01:02', '-0600', '\"GET', 'index.html', 'HTTP/1.0\"', '200', '150'], ['local', '-', '-', '24/Oct/1994:14:01:11', '-0600', '\"GET', '17.html', 'HTTP/1.0\"', '200', '881'], ['local', '-', '-', '24/Oct/1994:14:01:24', '-0600', '\"GET', '18.html', 'HTTP/1.0\"', '200', '709'], ['local', '-', '-', '24/Oct/1994:14:01:42', '-0600', '\"GET', '19.html', 'HTTP/1.0\"', '200', '1357'], ['local', '-', '-', '24/Oct/1994:14:02:01', '-0600', '\"GET', 'index.html', 'HTTP/1.0\"', '200', '391'], ['remote', '-', '-', '24/Oct/1994:14:03:32', '-0600', '\"GET', '20.html', 'HTTP/1.0\"', '200', '1530'], ['remote', '-', '-', '24/Oct/1994:14:03:36', '-0600', '\"GET', '21.gif', 'HTTP/1.0\"', '200', '59975'], ['local', '-', '-', '24/Oct/1994:14:03:39', '-0600', '\"GET', 'index.html', 'HTTP/1.0\"', '200', '410'], ['remote', '-', '-', '24/Oct/1994:14:03:49', '-0600', '\"GET', '22.html', 'HTTP/1.0\"', '200', '7151'], ['local', '-', '-', '24/Oct/1994:14:04:22', '-0600', '\"GET', 'index.html', 'HTTP/1.0\"', '200', '410'], ['local', '-', '-', '24/Oct/1994:14:05:17', '-0600', '\"GET', 'index.html', 'HTTP/1.0\"', '200', '419']]\n"
     ]
    }
   ],
   "source": [
    "# Store input filename in variable. Include necessary path info.\n",
    "in_filename = \"data/apache-mini.log\"\n",
    "\n",
    "# Init counter to keep track of line numbers (not necessary but sometimes useful)\n",
    "line_number = 0\n",
    "\n",
    "# Create empty list\n",
    "loglines = []\n",
    "\n",
    "# Open the input file for reading\n",
    "with open(in_filename, 'r') as in_file:\n",
    "    # Loop through each line in the file. Check out the nice looping syntax for traversing a file.\n",
    "    for line in in_file:\n",
    "        \n",
    "        # Let's strip off any end of line characters\n",
    "        line = line.rstrip()\n",
    "        \n",
    "        # Before we split on the spaces, let's get rid of the brackets around the date\n",
    "        line = line.replace('[', '')\n",
    "        line = line.replace(']', '')\n",
    "        \n",
    "        # Now split the line using space as our delimiter\n",
    "        logline_list = line.split(' ')\n",
    "        \n",
    "        # Append the logline list to the master list\n",
    "        loglines.append(logline_list)\n",
    "        \n",
    "        # Increment the line counter\n",
    "        line_number += 1\n",
    "        \n",
    "# All done, print the list\n",
    "print(loglines)\n"
   ]
  },
  {
   "cell_type": "markdown",
   "metadata": {},
   "source": [
    "Well, not so pretty. Sometimes we need to \"pretty print\" - https://docs.python.org/3/library/pprint.html."
   ]
  },
  {
   "cell_type": "code",
   "execution_count": 25,
   "metadata": {},
   "outputs": [],
   "source": [
    "from pprint import pprint"
   ]
  },
  {
   "cell_type": "code",
   "execution_count": 26,
   "metadata": {
    "collapsed": true,
    "jupyter": {
     "outputs_hidden": true
    },
    "tags": []
   },
   "outputs": [
    {
     "name": "stdout",
     "output_type": "stream",
     "text": [
      "[['local',\n",
      "  '-',\n",
      "  '-',\n",
      "  '24/Oct/1994:13:41:41',\n",
      "  '-0600',\n",
      "  '\"GET',\n",
      "  'index.html',\n",
      "  'HTTP/1.0\"',\n",
      "  '200',\n",
      "  '150'],\n",
      " ['local',\n",
      "  '-',\n",
      "  '-',\n",
      "  '24/Oct/1994:13:41:41',\n",
      "  '-0600',\n",
      "  '\"GET',\n",
      "  '1.gif',\n",
      "  'HTTP/1.0\"',\n",
      "  '200',\n",
      "  '1210'],\n",
      " ['local',\n",
      "  '-',\n",
      "  '-',\n",
      "  '24/Oct/1994:13:43:13',\n",
      "  '-0600',\n",
      "  '\"GET',\n",
      "  'index.html',\n",
      "  'HTTP/1.0\"',\n",
      "  '200',\n",
      "  '3185'],\n",
      " ['local',\n",
      "  '-',\n",
      "  '-',\n",
      "  '24/Oct/1994:13:43:14',\n",
      "  '-0600',\n",
      "  '\"GET',\n",
      "  '2.gif',\n",
      "  'HTTP/1.0\"',\n",
      "  '200',\n",
      "  '2555'],\n",
      " ['local',\n",
      "  '-',\n",
      "  '-',\n",
      "  '24/Oct/1994:13:43:15',\n",
      "  '-0600',\n",
      "  '\"GET',\n",
      "  '3.gif',\n",
      "  'HTTP/1.0\"',\n",
      "  '200',\n",
      "  '36403'],\n",
      " ['local',\n",
      "  '-',\n",
      "  '-',\n",
      "  '24/Oct/1994:13:43:17',\n",
      "  '-0600',\n",
      "  '\"GET',\n",
      "  '4.gif',\n",
      "  'HTTP/1.0\"',\n",
      "  '200',\n",
      "  '441'],\n",
      " ['local',\n",
      "  '-',\n",
      "  '-',\n",
      "  '24/Oct/1994:13:46:45',\n",
      "  '-0600',\n",
      "  '\"GET',\n",
      "  'index.html',\n",
      "  'HTTP/1.0\"',\n",
      "  '200',\n",
      "  '3185'],\n",
      " ['local',\n",
      "  '-',\n",
      "  '-',\n",
      "  '24/Oct/1994:13:46:45',\n",
      "  '-0600',\n",
      "  '\"GET',\n",
      "  '2.gif',\n",
      "  'HTTP/1.0\"',\n",
      "  '200',\n",
      "  '2555'],\n",
      " ['local',\n",
      "  '-',\n",
      "  '-',\n",
      "  '24/Oct/1994:13:46:47',\n",
      "  '-0600',\n",
      "  '\"GET',\n",
      "  '3.gif',\n",
      "  'HTTP/1.0\"',\n",
      "  '200',\n",
      "  '36403'],\n",
      " ['local',\n",
      "  '-',\n",
      "  '-',\n",
      "  '24/Oct/1994:13:46:50',\n",
      "  '-0600',\n",
      "  '\"GET',\n",
      "  '4.gif',\n",
      "  'HTTP/1.0\"',\n",
      "  '200',\n",
      "  '441'],\n",
      " ['local',\n",
      "  '-',\n",
      "  '-',\n",
      "  '24/Oct/1994:13:47:19',\n",
      "  '-0600',\n",
      "  '\"GET',\n",
      "  'index.html',\n",
      "  'HTTP/1.0\"',\n",
      "  '200',\n",
      "  '150'],\n",
      " ['local',\n",
      "  '-',\n",
      "  '-',\n",
      "  '24/Oct/1994:13:47:19',\n",
      "  '-0600',\n",
      "  '\"GET',\n",
      "  '1.gif',\n",
      "  'HTTP/1.0\"',\n",
      "  '200',\n",
      "  '1210'],\n",
      " ['local',\n",
      "  '-',\n",
      "  '-',\n",
      "  '24/Oct/1994:13:47:41',\n",
      "  '-0600',\n",
      "  '\"GET',\n",
      "  'index.html',\n",
      "  'HTTP/1.0\"',\n",
      "  '200',\n",
      "  '3185'],\n",
      " ['local',\n",
      "  '-',\n",
      "  '-',\n",
      "  '24/Oct/1994:13:47:50',\n",
      "  '-0600',\n",
      "  '\"GET',\n",
      "  '5.html',\n",
      "  'HTTP/1.0\"',\n",
      "  '200',\n",
      "  '2065'],\n",
      " ['local',\n",
      "  '-',\n",
      "  '-',\n",
      "  '24/Oct/1994:13:48:11',\n",
      "  '-0600',\n",
      "  '\"GET',\n",
      "  '6.html',\n",
      "  'HTTP/1.0\"',\n",
      "  '200',\n",
      "  '1124'],\n",
      " ['local',\n",
      "  '-',\n",
      "  '-',\n",
      "  '24/Oct/1994:13:48:23',\n",
      "  '-0600',\n",
      "  '\"GET',\n",
      "  '7.html',\n",
      "  'HTTP/1.0\"',\n",
      "  '200',\n",
      "  '1538'],\n",
      " ['local',\n",
      "  '-',\n",
      "  '-',\n",
      "  '24/Oct/1994:13:48:51',\n",
      "  '-0600',\n",
      "  '\"GET',\n",
      "  '8.html',\n",
      "  'HTTP/1.0\"',\n",
      "  '200',\n",
      "  '322'],\n",
      " ['local',\n",
      "  '-',\n",
      "  '-',\n",
      "  '24/Oct/1994:13:49:01',\n",
      "  '-0600',\n",
      "  '\"GET',\n",
      "  'index.html',\n",
      "  'HTTP/1.0\"',\n",
      "  '302',\n",
      "  '-'],\n",
      " ['local',\n",
      "  '-',\n",
      "  '-',\n",
      "  '24/Oct/1994:13:49:01',\n",
      "  '-0600',\n",
      "  '\"GET',\n",
      "  'index.html',\n",
      "  'HTTP/1.0\"',\n",
      "  '200',\n",
      "  '999'],\n",
      " ['local',\n",
      "  '-',\n",
      "  '-',\n",
      "  '24/Oct/1994:13:49:14',\n",
      "  '-0600',\n",
      "  '\"GET',\n",
      "  '9.html',\n",
      "  'HTTP/1.0\"',\n",
      "  '200',\n",
      "  '1248'],\n",
      " ['local',\n",
      "  '-',\n",
      "  '-',\n",
      "  '24/Oct/1994:13:49:20',\n",
      "  '-0600',\n",
      "  '\"GET',\n",
      "  'index.html',\n",
      "  'HTTP/1.0\"',\n",
      "  '200',\n",
      "  '3185'],\n",
      " ['local',\n",
      "  '-',\n",
      "  '-',\n",
      "  '24/Oct/1994:13:49:21',\n",
      "  '-0600',\n",
      "  '\"GET',\n",
      "  '2.gif',\n",
      "  'HTTP/1.0\"',\n",
      "  '200',\n",
      "  '2555'],\n",
      " ['local',\n",
      "  '-',\n",
      "  '-',\n",
      "  '24/Oct/1994:13:49:25',\n",
      "  '-0600',\n",
      "  '\"GET',\n",
      "  '3.gif',\n",
      "  'HTTP/1.0\"',\n",
      "  '200',\n",
      "  '36403'],\n",
      " ['local',\n",
      "  '-',\n",
      "  '-',\n",
      "  '24/Oct/1994:13:49:27',\n",
      "  '-0600',\n",
      "  '\"GET',\n",
      "  '4.gif',\n",
      "  'HTTP/1.0\"',\n",
      "  '200',\n",
      "  '441'],\n",
      " ['local',\n",
      "  '-',\n",
      "  '-',\n",
      "  '24/Oct/1994:13:49:39',\n",
      "  '-0600',\n",
      "  '\"GET',\n",
      "  'index.html',\n",
      "  'HTTP/1.0\"',\n",
      "  '200',\n",
      "  '150'],\n",
      " ['local',\n",
      "  '-',\n",
      "  '-',\n",
      "  '24/Oct/1994:13:49:49',\n",
      "  '-0600',\n",
      "  '\"GET',\n",
      "  '10.html',\n",
      "  'HTTP/1.0\"',\n",
      "  '200',\n",
      "  '2286'],\n",
      " ['local',\n",
      "  '-',\n",
      "  '-',\n",
      "  '24/Oct/1994:13:50:33',\n",
      "  '-0600',\n",
      "  '\"GET',\n",
      "  'index.html',\n",
      "  'HTTP/1.0\"',\n",
      "  '200',\n",
      "  '150'],\n",
      " ['local',\n",
      "  '-',\n",
      "  '-',\n",
      "  '24/Oct/1994:13:55:03',\n",
      "  '-0600',\n",
      "  '\"GET',\n",
      "  '11.html',\n",
      "  'HTTP/1.0\"',\n",
      "  '200',\n",
      "  '1213'],\n",
      " ['local',\n",
      "  '-',\n",
      "  '-',\n",
      "  '24/Oct/1994:13:55:04',\n",
      "  '-0600',\n",
      "  '\"GET',\n",
      "  '11.html',\n",
      "  'HTTP/1.0\"',\n",
      "  '200',\n",
      "  '1213'],\n",
      " ['local',\n",
      "  '-',\n",
      "  '-',\n",
      "  '24/Oct/1994:13:55:08',\n",
      "  '-0600',\n",
      "  '\"GET',\n",
      "  '12.gif',\n",
      "  'HTTP/1.0\"',\n",
      "  '200',\n",
      "  '191'],\n",
      " ['local',\n",
      "  '-',\n",
      "  '-',\n",
      "  '24/Oct/1994:13:55:21',\n",
      "  '-0600',\n",
      "  '\"GET',\n",
      "  '13.gif',\n",
      "  'HTTP/1.0\"',\n",
      "  '200',\n",
      "  '33974'],\n",
      " ['local',\n",
      "  '-',\n",
      "  '-',\n",
      "  '24/Oct/1994:13:59:48',\n",
      "  '-0600',\n",
      "  '\"GET',\n",
      "  'index.html',\n",
      "  'HTTP/1.0\"',\n",
      "  '200',\n",
      "  '3185'],\n",
      " ['local',\n",
      "  '-',\n",
      "  '-',\n",
      "  '24/Oct/1994:13:59:55',\n",
      "  '-0600',\n",
      "  '\"GET',\n",
      "  '14.html',\n",
      "  'HTTP/1.0\"',\n",
      "  '304',\n",
      "  '0'],\n",
      " ['local',\n",
      "  '-',\n",
      "  '-',\n",
      "  '24/Oct/1994:14:00:06',\n",
      "  '-0600',\n",
      "  '\"GET',\n",
      "  'index.html',\n",
      "  'HTTP/1.0\"',\n",
      "  '200',\n",
      "  '3100'],\n",
      " ['local',\n",
      "  '-',\n",
      "  '-',\n",
      "  '24/Oct/1994:14:00:20',\n",
      "  '-0600',\n",
      "  '\"GET',\n",
      "  'index.html',\n",
      "  'HTTP/1.0\"',\n",
      "  '302',\n",
      "  '-'],\n",
      " ['local',\n",
      "  '-',\n",
      "  '-',\n",
      "  '24/Oct/1994:14:00:20',\n",
      "  '-0600',\n",
      "  '\"GET',\n",
      "  'index.html',\n",
      "  'HTTP/1.0\"',\n",
      "  '200',\n",
      "  '631'],\n",
      " ['local',\n",
      "  '-',\n",
      "  '-',\n",
      "  '24/Oct/1994:14:00:25',\n",
      "  '-0600',\n",
      "  '\"GET',\n",
      "  '15.html',\n",
      "  'HTTP/1.0\"',\n",
      "  '200',\n",
      "  '861'],\n",
      " ['local',\n",
      "  '-',\n",
      "  '-',\n",
      "  '24/Oct/1994:14:00:49',\n",
      "  '-0600',\n",
      "  '\"GET',\n",
      "  'index.html',\n",
      "  'HTTP/1.0\"',\n",
      "  '200',\n",
      "  '631'],\n",
      " ['local',\n",
      "  '-',\n",
      "  '-',\n",
      "  '24/Oct/1994:14:00:52',\n",
      "  '-0600',\n",
      "  '\"GET',\n",
      "  '16.html',\n",
      "  'HTTP/1.0\"',\n",
      "  '200',\n",
      "  '1006'],\n",
      " ['local',\n",
      "  '-',\n",
      "  '-',\n",
      "  '24/Oct/1994:14:01:02',\n",
      "  '-0600',\n",
      "  '\"GET',\n",
      "  'index.html',\n",
      "  'HTTP/1.0\"',\n",
      "  '200',\n",
      "  '150'],\n",
      " ['local',\n",
      "  '-',\n",
      "  '-',\n",
      "  '24/Oct/1994:14:01:11',\n",
      "  '-0600',\n",
      "  '\"GET',\n",
      "  '17.html',\n",
      "  'HTTP/1.0\"',\n",
      "  '200',\n",
      "  '881'],\n",
      " ['local',\n",
      "  '-',\n",
      "  '-',\n",
      "  '24/Oct/1994:14:01:24',\n",
      "  '-0600',\n",
      "  '\"GET',\n",
      "  '18.html',\n",
      "  'HTTP/1.0\"',\n",
      "  '200',\n",
      "  '709'],\n",
      " ['local',\n",
      "  '-',\n",
      "  '-',\n",
      "  '24/Oct/1994:14:01:42',\n",
      "  '-0600',\n",
      "  '\"GET',\n",
      "  '19.html',\n",
      "  'HTTP/1.0\"',\n",
      "  '200',\n",
      "  '1357'],\n",
      " ['local',\n",
      "  '-',\n",
      "  '-',\n",
      "  '24/Oct/1994:14:02:01',\n",
      "  '-0600',\n",
      "  '\"GET',\n",
      "  'index.html',\n",
      "  'HTTP/1.0\"',\n",
      "  '200',\n",
      "  '391'],\n",
      " ['remote',\n",
      "  '-',\n",
      "  '-',\n",
      "  '24/Oct/1994:14:03:32',\n",
      "  '-0600',\n",
      "  '\"GET',\n",
      "  '20.html',\n",
      "  'HTTP/1.0\"',\n",
      "  '200',\n",
      "  '1530'],\n",
      " ['remote',\n",
      "  '-',\n",
      "  '-',\n",
      "  '24/Oct/1994:14:03:36',\n",
      "  '-0600',\n",
      "  '\"GET',\n",
      "  '21.gif',\n",
      "  'HTTP/1.0\"',\n",
      "  '200',\n",
      "  '59975'],\n",
      " ['local',\n",
      "  '-',\n",
      "  '-',\n",
      "  '24/Oct/1994:14:03:39',\n",
      "  '-0600',\n",
      "  '\"GET',\n",
      "  'index.html',\n",
      "  'HTTP/1.0\"',\n",
      "  '200',\n",
      "  '410'],\n",
      " ['remote',\n",
      "  '-',\n",
      "  '-',\n",
      "  '24/Oct/1994:14:03:49',\n",
      "  '-0600',\n",
      "  '\"GET',\n",
      "  '22.html',\n",
      "  'HTTP/1.0\"',\n",
      "  '200',\n",
      "  '7151'],\n",
      " ['local',\n",
      "  '-',\n",
      "  '-',\n",
      "  '24/Oct/1994:14:04:22',\n",
      "  '-0600',\n",
      "  '\"GET',\n",
      "  'index.html',\n",
      "  'HTTP/1.0\"',\n",
      "  '200',\n",
      "  '410'],\n",
      " ['local',\n",
      "  '-',\n",
      "  '-',\n",
      "  '24/Oct/1994:14:05:17',\n",
      "  '-0600',\n",
      "  '\"GET',\n",
      "  'index.html',\n",
      "  'HTTP/1.0\"',\n",
      "  '200',\n",
      "  '419']]\n"
     ]
    }
   ],
   "source": [
    "pprint(loglines)"
   ]
  },
  {
   "cell_type": "markdown",
   "metadata": {},
   "source": [
    "... or of course, we could iterate over the list and print a line at a time for finer control. "
   ]
  },
  {
   "cell_type": "code",
   "execution_count": 27,
   "metadata": {},
   "outputs": [
    {
     "name": "stdout",
     "output_type": "stream",
     "text": [
      "['local', '-', '-', '24/Oct/1994:13:41:41', '-0600', '\"GET', 'index.html', 'HTTP/1.0\"', '200', '150']\n",
      "['local', '-', '-', '24/Oct/1994:13:41:41', '-0600', '\"GET', '1.gif', 'HTTP/1.0\"', '200', '1210']\n",
      "['local', '-', '-', '24/Oct/1994:13:43:13', '-0600', '\"GET', 'index.html', 'HTTP/1.0\"', '200', '3185']\n",
      "['local', '-', '-', '24/Oct/1994:13:43:14', '-0600', '\"GET', '2.gif', 'HTTP/1.0\"', '200', '2555']\n",
      "['local', '-', '-', '24/Oct/1994:13:43:15', '-0600', '\"GET', '3.gif', 'HTTP/1.0\"', '200', '36403']\n",
      "['local', '-', '-', '24/Oct/1994:13:43:17', '-0600', '\"GET', '4.gif', 'HTTP/1.0\"', '200', '441']\n",
      "['local', '-', '-', '24/Oct/1994:13:46:45', '-0600', '\"GET', 'index.html', 'HTTP/1.0\"', '200', '3185']\n",
      "['local', '-', '-', '24/Oct/1994:13:46:45', '-0600', '\"GET', '2.gif', 'HTTP/1.0\"', '200', '2555']\n",
      "['local', '-', '-', '24/Oct/1994:13:46:47', '-0600', '\"GET', '3.gif', 'HTTP/1.0\"', '200', '36403']\n",
      "['local', '-', '-', '24/Oct/1994:13:46:50', '-0600', '\"GET', '4.gif', 'HTTP/1.0\"', '200', '441']\n",
      "['local', '-', '-', '24/Oct/1994:13:47:19', '-0600', '\"GET', 'index.html', 'HTTP/1.0\"', '200', '150']\n",
      "['local', '-', '-', '24/Oct/1994:13:47:19', '-0600', '\"GET', '1.gif', 'HTTP/1.0\"', '200', '1210']\n",
      "['local', '-', '-', '24/Oct/1994:13:47:41', '-0600', '\"GET', 'index.html', 'HTTP/1.0\"', '200', '3185']\n",
      "['local', '-', '-', '24/Oct/1994:13:47:50', '-0600', '\"GET', '5.html', 'HTTP/1.0\"', '200', '2065']\n",
      "['local', '-', '-', '24/Oct/1994:13:48:11', '-0600', '\"GET', '6.html', 'HTTP/1.0\"', '200', '1124']\n",
      "['local', '-', '-', '24/Oct/1994:13:48:23', '-0600', '\"GET', '7.html', 'HTTP/1.0\"', '200', '1538']\n",
      "['local', '-', '-', '24/Oct/1994:13:48:51', '-0600', '\"GET', '8.html', 'HTTP/1.0\"', '200', '322']\n",
      "['local', '-', '-', '24/Oct/1994:13:49:01', '-0600', '\"GET', 'index.html', 'HTTP/1.0\"', '302', '-']\n",
      "['local', '-', '-', '24/Oct/1994:13:49:01', '-0600', '\"GET', 'index.html', 'HTTP/1.0\"', '200', '999']\n",
      "['local', '-', '-', '24/Oct/1994:13:49:14', '-0600', '\"GET', '9.html', 'HTTP/1.0\"', '200', '1248']\n",
      "['local', '-', '-', '24/Oct/1994:13:49:20', '-0600', '\"GET', 'index.html', 'HTTP/1.0\"', '200', '3185']\n",
      "['local', '-', '-', '24/Oct/1994:13:49:21', '-0600', '\"GET', '2.gif', 'HTTP/1.0\"', '200', '2555']\n",
      "['local', '-', '-', '24/Oct/1994:13:49:25', '-0600', '\"GET', '3.gif', 'HTTP/1.0\"', '200', '36403']\n",
      "['local', '-', '-', '24/Oct/1994:13:49:27', '-0600', '\"GET', '4.gif', 'HTTP/1.0\"', '200', '441']\n",
      "['local', '-', '-', '24/Oct/1994:13:49:39', '-0600', '\"GET', 'index.html', 'HTTP/1.0\"', '200', '150']\n",
      "['local', '-', '-', '24/Oct/1994:13:49:49', '-0600', '\"GET', '10.html', 'HTTP/1.0\"', '200', '2286']\n",
      "['local', '-', '-', '24/Oct/1994:13:50:33', '-0600', '\"GET', 'index.html', 'HTTP/1.0\"', '200', '150']\n",
      "['local', '-', '-', '24/Oct/1994:13:55:03', '-0600', '\"GET', '11.html', 'HTTP/1.0\"', '200', '1213']\n",
      "['local', '-', '-', '24/Oct/1994:13:55:04', '-0600', '\"GET', '11.html', 'HTTP/1.0\"', '200', '1213']\n",
      "['local', '-', '-', '24/Oct/1994:13:55:08', '-0600', '\"GET', '12.gif', 'HTTP/1.0\"', '200', '191']\n",
      "['local', '-', '-', '24/Oct/1994:13:55:21', '-0600', '\"GET', '13.gif', 'HTTP/1.0\"', '200', '33974']\n",
      "['local', '-', '-', '24/Oct/1994:13:59:48', '-0600', '\"GET', 'index.html', 'HTTP/1.0\"', '200', '3185']\n",
      "['local', '-', '-', '24/Oct/1994:13:59:55', '-0600', '\"GET', '14.html', 'HTTP/1.0\"', '304', '0']\n",
      "['local', '-', '-', '24/Oct/1994:14:00:06', '-0600', '\"GET', 'index.html', 'HTTP/1.0\"', '200', '3100']\n",
      "['local', '-', '-', '24/Oct/1994:14:00:20', '-0600', '\"GET', 'index.html', 'HTTP/1.0\"', '302', '-']\n",
      "['local', '-', '-', '24/Oct/1994:14:00:20', '-0600', '\"GET', 'index.html', 'HTTP/1.0\"', '200', '631']\n",
      "['local', '-', '-', '24/Oct/1994:14:00:25', '-0600', '\"GET', '15.html', 'HTTP/1.0\"', '200', '861']\n",
      "['local', '-', '-', '24/Oct/1994:14:00:49', '-0600', '\"GET', 'index.html', 'HTTP/1.0\"', '200', '631']\n",
      "['local', '-', '-', '24/Oct/1994:14:00:52', '-0600', '\"GET', '16.html', 'HTTP/1.0\"', '200', '1006']\n",
      "['local', '-', '-', '24/Oct/1994:14:01:02', '-0600', '\"GET', 'index.html', 'HTTP/1.0\"', '200', '150']\n",
      "['local', '-', '-', '24/Oct/1994:14:01:11', '-0600', '\"GET', '17.html', 'HTTP/1.0\"', '200', '881']\n",
      "['local', '-', '-', '24/Oct/1994:14:01:24', '-0600', '\"GET', '18.html', 'HTTP/1.0\"', '200', '709']\n",
      "['local', '-', '-', '24/Oct/1994:14:01:42', '-0600', '\"GET', '19.html', 'HTTP/1.0\"', '200', '1357']\n",
      "['local', '-', '-', '24/Oct/1994:14:02:01', '-0600', '\"GET', 'index.html', 'HTTP/1.0\"', '200', '391']\n",
      "['remote', '-', '-', '24/Oct/1994:14:03:32', '-0600', '\"GET', '20.html', 'HTTP/1.0\"', '200', '1530']\n",
      "['remote', '-', '-', '24/Oct/1994:14:03:36', '-0600', '\"GET', '21.gif', 'HTTP/1.0\"', '200', '59975']\n",
      "['local', '-', '-', '24/Oct/1994:14:03:39', '-0600', '\"GET', 'index.html', 'HTTP/1.0\"', '200', '410']\n",
      "['remote', '-', '-', '24/Oct/1994:14:03:49', '-0600', '\"GET', '22.html', 'HTTP/1.0\"', '200', '7151']\n",
      "['local', '-', '-', '24/Oct/1994:14:04:22', '-0600', '\"GET', 'index.html', 'HTTP/1.0\"', '200', '410']\n",
      "['local', '-', '-', '24/Oct/1994:14:05:17', '-0600', '\"GET', 'index.html', 'HTTP/1.0\"', '200', '419']\n"
     ]
    }
   ],
   "source": [
    "for logline in loglines:\n",
    "    print(logline)"
   ]
  },
  {
   "cell_type": "markdown",
   "metadata": {},
   "source": [
    "## Using Spyder or PyCharm - Python IDEs (Integrated Development Environments)\n",
    "While these Jupyter notebooks are great for interactive computing, tutorials like this one, and relatively small programs, as your programs grow larger and more complex you'll likely want to use an IDE. Both Spyder and PyCharm are IDEs for Python and have all kinds of great features like:\n",
    "\n",
    "* a visual debugger that allows you to step through your code, see values of variables, set breakpoints and watches\n",
    "* syntax highlighting\n",
    "* tab completion\n",
    "* integrates with version control packages such as git\n",
    "* helps organize code into projects\n",
    "* integrated IPython console\n",
    "* a slew of other features\n",
    "\n",
    "For now, we'll just:\n",
    "\n",
    "* launch Spyder, \n",
    "* open a Python script version of our Apache log file reader program, \n",
    "* learn how to use the debugger.\n",
    "\n",
    "Anaconda Python includes an IDE called Spyder. Just type `spyder` at the shell command line prompt.\n",
    "\n",
    "You can find a Spyder Tutorial in the Help menu.\n",
    "\n",
    "PyCharm is a full-featured IDE aimed at Python developers. I use it extensively. However, it can be a bit overwhelming for new programmers. Spyder is a little easier to use for beginners and is focused on scientific computing. While PyCharm forces the use of a Project construct, this is optional in Spyder (just as R projects are optional in R Studio). I do recommend using them.\n",
    "\n",
    "Ok, now I'll show you how to run and debug our little program.\n",
    "\n",
    "If you want to experiment with PyCharm, you can [download the free Community Edition](https://www.jetbrains.com/pycharm/download/#section=linux) and then [check out their Quick Start Guide](https://www.jetbrains.com/help/pycharm/quick-start-guide.html#create).\n",
    "\n"
   ]
  },
  {
   "cell_type": "code",
   "execution_count": null,
   "metadata": {},
   "outputs": [],
   "source": []
  }
 ],
 "metadata": {
  "anaconda-cloud": {},
  "kernelspec": {
   "display_name": "Python [conda env:datasci]",
   "language": "python",
   "name": "conda-env-datasci-py"
  },
  "language_info": {
   "codemirror_mode": {
    "name": "ipython",
    "version": 3
   },
   "file_extension": ".py",
   "mimetype": "text/x-python",
   "name": "python",
   "nbconvert_exporter": "python",
   "pygments_lexer": "ipython3",
   "version": "3.13.2"
  }
 },
 "nbformat": 4,
 "nbformat_minor": 4
}
