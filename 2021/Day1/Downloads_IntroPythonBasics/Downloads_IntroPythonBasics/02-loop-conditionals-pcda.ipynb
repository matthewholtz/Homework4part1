{
 "cells": [
  {
   "cell_type": "markdown",
   "metadata": {},
   "source": [
    "Adapted from: Software Carpentry - Programming with Python (v5)\n",
    "\n",
    "# Lesson 02 - Iteration (loops) and Conditional logic (if-then-else) and more on strings\n",
    "\n",
    "## Learning Objectives\n",
    "\n",
    "*   Explain what a for loop does.\n",
    "*   Correctly write for loops to repeat simple calculations.\n",
    "*   Trace changes to a loop variable as the loop runs.\n",
    "*   Write conditional statements including `if`, `elif`, and `else` branches.\n",
    "*   Access parts of strings by indexing.\n",
    "*   Print a mix of text and variable values.\n",
    "\n",
    "In the last lesson,\n",
    "we wrote some code that plots some values of interest from our first inflammation dataset,\n",
    "and reveals some suspicious features in it, such as from `inflammation-01.csv`\n",
    "\n",
    "![Analysis of inflammation-01.csv](fig/03-loop_2_0.png)\n",
    "\n",
    "We have a dozen data sets right now, though, and more on the way.\n",
    "We want to create plots for all of our data sets with a single statement. To do that, we need to *iterate*, or *loop*, over our entire *collection* of plots. Most programming languages support the\n",
    "notion of loops, and often, several different types of loops. Let's start learning about loops in Python by considering a very simple collection - a string."
   ]
  },
  {
   "cell_type": "markdown",
   "metadata": {},
   "source": [
    "## Loop over a collection\n",
    "\n",
    "An example task that we might want to repeat is printing each character in a\n",
    "word on a line of its own. One way to do this would be to use a series of `print` statements. There's a few things to note about the code in the next cell.\n",
    "\n",
    "* The variable `word` is a string whose value is 'lead'. We saw strings in the first notebook.\n",
    "* String variables can be viewed as a collection of characters (each of which is also considered a string).\n",
    "* Just as we did in the previous notebook with NumPy arrays (collections of numbers), we can access individual elements within a string by using brackets and index numbers.\n",
    "* And, as you might have guessed, just as we used slices to access more than one element of an array, we can slice strings, too."
   ]
  },
  {
   "cell_type": "code",
   "execution_count": 1,
   "metadata": {},
   "outputs": [
    {
     "name": "stdout",
     "output_type": "stream",
     "text": [
      "l\n",
      "e\n",
      "a\n",
      "d\n"
     ]
    }
   ],
   "source": [
    "word = 'lead'\n",
    "print(word[0])\n",
    "print(word[1])\n",
    "print(word[2])\n",
    "print(word[3])\n"
   ]
  },
  {
   "cell_type": "markdown",
   "metadata": {},
   "source": [
    "This is a bad approach for two reasons:\n",
    "\n",
    "1.  It doesn't scale:\n",
    "    if we want to print the characters in a string that's hundreds of letters long,\n",
    "    we'd be better off just typing them in.\n",
    "\n",
    "1.  It's fragile:\n",
    "    if we give it a longer string,\n",
    "    it only prints part of the data,\n",
    "    and if we give it a shorter one,\n",
    "    it produces an error because we're asking for characters that don't exist."
   ]
  },
  {
   "cell_type": "code",
   "execution_count": 2,
   "metadata": {},
   "outputs": [
    {
     "name": "stdout",
     "output_type": "stream",
     "text": [
      "t\n",
      "i\n",
      "n\n"
     ]
    },
    {
     "ename": "IndexError",
     "evalue": "string index out of range",
     "output_type": "error",
     "traceback": [
      "\u001b[0;31m---------------------------------------------------------------------------\u001b[0m",
      "\u001b[0;31mIndexError\u001b[0m                                Traceback (most recent call last)",
      "\u001b[0;32m<ipython-input-2-e59d5eac5430>\u001b[0m in \u001b[0;36m<module>\u001b[0;34m\u001b[0m\n\u001b[1;32m      3\u001b[0m \u001b[0mprint\u001b[0m\u001b[0;34m(\u001b[0m\u001b[0mword\u001b[0m\u001b[0;34m[\u001b[0m\u001b[0;36m1\u001b[0m\u001b[0;34m]\u001b[0m\u001b[0;34m)\u001b[0m\u001b[0;34m\u001b[0m\u001b[0;34m\u001b[0m\u001b[0m\n\u001b[1;32m      4\u001b[0m \u001b[0mprint\u001b[0m\u001b[0;34m(\u001b[0m\u001b[0mword\u001b[0m\u001b[0;34m[\u001b[0m\u001b[0;36m2\u001b[0m\u001b[0;34m]\u001b[0m\u001b[0;34m)\u001b[0m\u001b[0;34m\u001b[0m\u001b[0;34m\u001b[0m\u001b[0m\n\u001b[0;32m----> 5\u001b[0;31m \u001b[0mprint\u001b[0m\u001b[0;34m(\u001b[0m\u001b[0mword\u001b[0m\u001b[0;34m[\u001b[0m\u001b[0;36m3\u001b[0m\u001b[0;34m]\u001b[0m\u001b[0;34m)\u001b[0m\u001b[0;34m\u001b[0m\u001b[0;34m\u001b[0m\u001b[0m\n\u001b[0m",
      "\u001b[0;31mIndexError\u001b[0m: string index out of range"
     ]
    }
   ],
   "source": [
    "word = 'tin'\n",
    "print(word[0])\n",
    "print(word[1])\n",
    "print(word[2])\n",
    "print(word[3])\n"
   ]
  },
  {
   "cell_type": "markdown",
   "metadata": {},
   "source": [
    "Here's a better approach:"
   ]
  },
  {
   "cell_type": "code",
   "execution_count": 3,
   "metadata": {},
   "outputs": [
    {
     "name": "stdout",
     "output_type": "stream",
     "text": [
      "l\n",
      "e\n",
      "a\n",
      "d\n"
     ]
    }
   ],
   "source": [
    "word = 'lead'\n",
    "for char in word:\n",
    "    print(char)\n"
   ]
  },
  {
   "cell_type": "markdown",
   "metadata": {},
   "source": [
    "Note that we can check if something is in some collection by using the `in` operator."
   ]
  },
  {
   "cell_type": "code",
   "execution_count": 10,
   "metadata": {},
   "outputs": [
    {
     "name": "stdout",
     "output_type": "stream",
     "text": [
      "True\n",
      "False\n"
     ]
    }
   ],
   "source": [
    "print('a' in word)\n",
    "print('x' in word)"
   ]
  },
  {
   "cell_type": "markdown",
   "metadata": {},
   "source": [
    "This is shorter---certainly shorter than something that prints every character in a hundred-letter string---and\n",
    "more robust as well:"
   ]
  },
  {
   "cell_type": "code",
   "execution_count": 11,
   "metadata": {},
   "outputs": [
    {
     "name": "stdout",
     "output_type": "stream",
     "text": [
      "o\n",
      "x\n",
      "y\n",
      "g\n",
      "e\n",
      "n\n"
     ]
    }
   ],
   "source": [
    "word = 'oxygen'\n",
    "for char in word:\n",
    "    print(char)"
   ]
  },
  {
   "cell_type": "markdown",
   "metadata": {},
   "source": [
    "The improved version uses a *for loop*\n",
    "to repeat an operation. In this case, we want to print once for each thing in a collection.\n",
    "The general form of a loop over a collection:"
   ]
  },
  {
   "cell_type": "code",
   "execution_count": 1,
   "metadata": {},
   "outputs": [
    {
     "ename": "SyntaxError",
     "evalue": "invalid syntax (2336566951.py, line 2)",
     "output_type": "error",
     "traceback": [
      "\u001b[1;36m  Cell \u001b[1;32mIn[1], line 2\u001b[1;36m\u001b[0m\n\u001b[1;33m    do things that use the variable\u001b[0m\n\u001b[1;37m       ^\u001b[0m\n\u001b[1;31mSyntaxError\u001b[0m\u001b[1;31m:\u001b[0m invalid syntax\n"
     ]
    }
   ],
   "source": [
    "for variable in collection:\n",
    "    do things that use the variable\n",
    "    \n",
    "print(\"I am outside the loop\")"
   ]
  },
  {
   "cell_type": "markdown",
   "metadata": {},
   "source": [
    "### Looping rules\n",
    "\n",
    "* We can call the *loop variable* anything we like,\n",
    "but there must be a colon at the end of the line starting the loop.\n",
    "* We must **indent** anything we want to run inside the loop. Unlike many other languages, there is no\n",
    "command to signify the end of the loop body (e.g. end for); what is indented after the for statement belongs to the loop. \n",
    "* The standard convention is to indent 4 **spaces**. Do NOT use tab characters. Most Python editors like PyCharm or Spyder will remap the tab key so that it does 4 spaces instead of a tab character. \n",
    "\n",
    "> **Whitespace defines block structure!**\n",
    "\n",
    "This whole notion of using whitespace (indenting) to define block structure in a program takes a little getting used to. Some programmers bristle at being forced to structure their code this way. On the other hand, it naturally leads to quite clean and readable code. For example there are no \"squiggly brackets\" to define the start and end of loops as you'd find in languages like C, C++ and Java. Yes, you need to be careful about indenting the proper number of spaces but it really does become second nature.\n",
    "\n",
    "Below is another loop that repeatedly updates a variable. Notice that we also introduce:\n",
    "\n",
    "* the `if` statement to show how to do simple conditional branching.\n",
    "* newer style string formatting. See https://realpython.com/python-string-formatting/ for nice summary.\n",
    "* in-place operators\n",
    "\n",
    "Python (and most other languages in the C family) provides *in-place operators*\n",
    "that work like this:"
   ]
  },
  {
   "cell_type": "code",
   "execution_count": 12,
   "metadata": {},
   "outputs": [],
   "source": [
    "x = 1  # original value\n",
    "x += 1 # add one to x, assigning result back to x. Same as x = x + 1\n",
    "x *= 3 # multiply x by 3. Same as x = x * 3"
   ]
  },
  {
   "cell_type": "markdown",
   "metadata": {},
   "source": [
    "What is the value of `x`?"
   ]
  },
  {
   "cell_type": "code",
   "execution_count": 12,
   "metadata": {},
   "outputs": [
    {
     "name": "stdout",
     "output_type": "stream",
     "text": [
      "6\n"
     ]
    }
   ],
   "source": [
    "print(x)"
   ]
  },
  {
   "cell_type": "markdown",
   "metadata": {},
   "source": [
    "Ok, here's our loop that counts different types of letters (vowels and consonants) in a string."
   ]
  },
  {
   "cell_type": "code",
   "execution_count": 1,
   "metadata": {},
   "outputs": [
    {
     "name": "stdout",
     "output_type": "stream",
     "text": [
      "There are 22 total characters - 7 vowels and 15 non-vowels.\n"
     ]
    }
   ],
   "source": [
    "# Initialize counters\n",
    "num_vowels = 0\n",
    "num_nonvowels = 0\n",
    "num_chars = 0\n",
    "\n",
    "target_string = 'Some interesting words'\n",
    "\n",
    "# Loop over the string\n",
    "for letter in target_string:\n",
    "    num_chars += 1\n",
    "\n",
    "    # Check if letter is a vowel and update counters accordingly\n",
    "    if letter in 'aeiou':\n",
    "        num_vowels += 1\n",
    "    else:\n",
    "        num_nonvowels += 1\n",
    "\n",
    "# This is the newest way of doing formatted printing called f-strings. T\n",
    "# he {} are placeholders which can\n",
    "# contain python expressions as well as format strings.\n",
    "print(f'There are {num_chars} total characters - {num_vowels} vowels and {num_nonvowels} non-vowels.')"
   ]
  },
  {
   "cell_type": "markdown",
   "metadata": {},
   "source": [
    "## Conditional logic\n",
    "Inside the loop above, we need to check if the variable `letter` has a value that corresponds to a vowel. We have already seen how you can use `in` to check if something is in a collection. In this case, the collection we'll use is a string consisting of the vowels."
   ]
  },
  {
   "cell_type": "code",
   "execution_count": 5,
   "metadata": {},
   "outputs": [
    {
     "data": {
      "text/plain": [
       "False"
      ]
     },
     "execution_count": 5,
     "metadata": {},
     "output_type": "execute_result"
    }
   ],
   "source": [
    "letter = 'b'\n",
    "letter in 'aeiou'"
   ]
  },
  {
   "cell_type": "code",
   "execution_count": 6,
   "metadata": {},
   "outputs": [
    {
     "data": {
      "text/plain": [
       "True"
      ]
     },
     "execution_count": 6,
     "metadata": {},
     "output_type": "execute_result"
    }
   ],
   "source": [
    "letter = 'a'\n",
    "letter in 'aeiou'"
   ]
  },
  {
   "cell_type": "markdown",
   "metadata": {},
   "source": [
    "We can ask Python to take different actions, depending on a condition, with an `if` statement.\n",
    "As with most programming languages there are a few forms of the `if` statement. The two most basic forms are:\n",
    "\n",
    "```\n",
    "if <logical expression>:\n",
    "    do stuff if True\n",
    "    ...\n",
    "```\n",
    "\n",
    "and, if we want to do something if the logical expression is `False`, we can add on an `else` block:\n",
    "\n",
    "```\n",
    "if <logical expression>:\n",
    "    do stuff if True\n",
    "    ...\n",
    "else:\n",
    "    do stuff if False\n",
    "    ...\n",
    "```"
   ]
  },
  {
   "cell_type": "markdown",
   "metadata": {},
   "source": [
    "Again, as with loops, notice how indentation (4 spaces) is used to define the block structure of our code and a colon is needed after the `if` and `else` statements. Contrast the Python structure of if-then-else with that of VBA.\n",
    "\n",
    "```\n",
    "' VBA Example\n",
    "If <logical expression> Then\n",
    "    do stuff if True\n",
    "    ...\n",
    "Else\n",
    "    do stuff if False\n",
    "    ...\n",
    "Endif\n",
    "```"
   ]
  },
  {
   "cell_type": "markdown",
   "metadata": {},
   "source": [
    "If we have more than one condition to check, can use `elif` blocks. "
   ]
  },
  {
   "cell_type": "code",
   "execution_count": 7,
   "metadata": {},
   "outputs": [
    {
     "name": "stdout",
     "output_type": "stream",
     "text": [
      "-3 is negative\n"
     ]
    }
   ],
   "source": [
    "num = -3\n",
    "\n",
    "if num > 0:\n",
    "    print(num, \"is positive\")\n",
    "elif num == 0:\n",
    "    print(num, \"is zero\")\n",
    "else:\n",
    "    print(num, \"is negative\")"
   ]
  },
  {
   "cell_type": "markdown",
   "metadata": {},
   "source": [
    "In our loop example, we just need to increment the appropriate counter variable based on the result of checking if the letter is a vowel. So, we have..."
   ]
  },
  {
   "cell_type": "code",
   "execution_count": null,
   "metadata": {},
   "outputs": [],
   "source": [
    "# Check if letter is a vowel and update counters accordingly\n",
    "if letter in 'aeiou':\n",
    "    num_vowels += 1\n",
    "else:\n",
    "    num_nonvowels += 1"
   ]
  },
  {
   "cell_type": "markdown",
   "metadata": {},
   "source": [
    "### Back to looping\n",
    "\n",
    "Note that a loop variable is just a variable that's being used to record progress in a loop.\n",
    "It still exists after the loop is over,\n",
    "and we can re-use variables previously defined as loop variables as well:"
   ]
  },
  {
   "cell_type": "code",
   "execution_count": 16,
   "metadata": {},
   "outputs": [
    {
     "name": "stdout",
     "output_type": "stream",
     "text": [
      "a\n",
      "b\n",
      "c\n",
      "after the loop, letter is c\n"
     ]
    }
   ],
   "source": [
    "letter = 'z'\n",
    "for letter in 'abc':\n",
    "    print(letter)\n",
    "    \n",
    "print('after the loop, letter is {}'.format(letter))"
   ]
  },
  {
   "cell_type": "markdown",
   "metadata": {},
   "source": [
    "### Sidebar: Formatted printing with f-strings\n",
    "\n",
    "The final `print` statement shows the basic use of something called *literal string interpolation*, or as its commonly known in Python, *f-strings*. The use of f-strings is actually the newest addition to formatted printing in Python. Later we'll learn about the different ways of doing formatted printing, but for now, we will just use simple f-strings as they are super convenient. You should notice that:\n",
    "\n",
    "* Like any other string, an f-string uses quotes (single or double) to enclose the string.\n",
    "* Preceeding the opening quotation mark is the letter `f`.\n",
    "* Within the string is a combination of literal text and placeholders denoted by the squiggly brackets.\n",
    "* Within the placeholders can be any valid Python expression - we are just using a single variable in each.\n",
    "* Within the placeholders you can also specify formatting options through something known as the *formatting mini-language*. Since we are just printing integers, no need for any special formattting. We'll revisit f-strings often and learn how to do more complex formatted printing.\n",
    "* Eventually you'll find yourself in the official Python documentation, so if you want a preview of the rich world of the various string formatting codes - https://docs.python.org/3/library/string.html#formatspec.\n"
   ]
  },
  {
   "cell_type": "markdown",
   "metadata": {},
   "source": [
    "Note also that finding the length of a string is such a common operation\n",
    "that Python has a built-in function to do it called `len`:"
   ]
  },
  {
   "cell_type": "code",
   "execution_count": 17,
   "metadata": {},
   "outputs": [
    {
     "data": {
      "text/plain": [
       "5"
      ]
     },
     "execution_count": 17,
     "metadata": {},
     "output_type": "execute_result"
    }
   ],
   "source": [
    "len('aeiou')"
   ]
  },
  {
   "cell_type": "markdown",
   "metadata": {},
   "source": [
    "`len` is much faster than any function we could write ourselves,\n",
    "and much easier to read than a two-line loop;\n",
    "it will also give us the length of many other things that we haven't met yet,\n",
    "so we should always use it when we can."
   ]
  },
  {
   "cell_type": "markdown",
   "metadata": {},
   "source": [
    "It's worth tracing the execution of this little program step by step.\n",
    "In fact, this would be a good time for us to start up Spyder and learn to do a few things such as:\n",
    "\n",
    "- create a new Python file (let's call it **loops.py**)\n",
    "- paste the code from the notebook cell containing our looping code into the new Python file\n",
    "- run the program\n",
    "- use the debugger to step through the program and explore the variable values"
   ]
  },
  {
   "cell_type": "markdown",
   "metadata": {},
   "source": [
    "> ## Challenge: From 1 to N \n",
    "> Python has a built-in function called `range` that creates a sequence of numbers. Range can\n",
    "> accept 1-3 parameters. If one parameter is input, range creates an array of that length,\n",
    "> starting at zero and incrementing by 1. If 2 parameters are input, range starts at\n",
    "> the first and ends just before the second, incrementing by one. If range is passed 3 parameters,\n",
    "> it starts at the first one, ends just before the second one, and increments by the third one. For\n",
    "> example,\n",
    "> `range(3)` produces the numbers 0, 1, 2, while `range(2, 5)` produces 2, 3, 4,\n",
    "> and `range(3, 10, 3)` produces 3, 6, 9.\n",
    "> Using `range`,\n",
    "> write a loop that uses `range` to print the first 3 natural numbers:\n",
    ">\n",
    "> ~~~ {.python}\n",
    "> 1\n",
    "> 2\n",
    "> 3\n",
    "> ~~~\n",
    "\n",
    "> ## Challenge: Computing powers with loops\n",
    ">\n",
    "> Exponentiation is built into Python:\n",
    ">\n",
    "> ~~~ {.python}\n",
    "> print(5 ** 3)\n",
    "> ~~~\n",
    "> ~~~ {.output}\n",
    "> 125\n",
    "> ~~~\n",
    ">\n",
    "> Write a loop that calculates the same result as `5 ** 3` using\n",
    "> multiplication (and without exponentiation).\n",
    "\n",
    "> ## Challenge: Reverse a string\n",
    ">\n",
    "> Write a loop that takes a string,\n",
    "> and produces a new string with the characters in reverse order,\n",
    "> so `'Newton'` becomes `'notweN'`. The `len()` function might be useful.\n",
    ">\n",
    "> Later we'll see there are much more compact ways to do things like reversing\n",
    "> a string."
   ]
  },
  {
   "cell_type": "markdown",
   "metadata": {},
   "source": [
    "## Solutions to challenges\n",
    "\n",
    "See below ...\n",
    "\n",
    ".\n",
    "\n",
    ".\n",
    "\n",
    ".\n",
    "\n",
    ".\n",
    "\n",
    ".\n",
    ".\n",
    ".\n",
    ".\n",
    ".\n",
    ".\n",
    ".\n",
    ".\n",
    "\n",
    "\n",
    "for the solutions."
   ]
  },
  {
   "cell_type": "markdown",
   "metadata": {},
   "source": [
    "**Challenge - range**"
   ]
  },
  {
   "cell_type": "code",
   "execution_count": 8,
   "metadata": {},
   "outputs": [
    {
     "name": "stdout",
     "output_type": "stream",
     "text": [
      "1\n",
      "2\n",
      "3\n"
     ]
    }
   ],
   "source": [
    "for i in range(3):\n",
    "    print(i + 1)"
   ]
  },
  {
   "cell_type": "markdown",
   "metadata": {},
   "source": [
    "...or we could do this..."
   ]
  },
  {
   "cell_type": "code",
   "execution_count": 9,
   "metadata": {},
   "outputs": [
    {
     "name": "stdout",
     "output_type": "stream",
     "text": [
      "1\n",
      "2\n",
      "3\n"
     ]
    }
   ],
   "source": [
    "for i in range(1, 4):\n",
    "    print(i)"
   ]
  },
  {
   "cell_type": "markdown",
   "metadata": {},
   "source": [
    "**Challenge - powers**"
   ]
  },
  {
   "cell_type": "code",
   "execution_count": null,
   "metadata": {},
   "outputs": [],
   "source": [
    "x = 5\n",
    "exponent = 3\n",
    "product = 1\n",
    "\n",
    "for i in range(exponent):\n",
    "    # product = product * x\n",
    "    product *= x\n",
    "    \n",
    "print(product)"
   ]
  },
  {
   "cell_type": "markdown",
   "metadata": {},
   "source": [
    "**Challenge - reverse string**"
   ]
  },
  {
   "cell_type": "code",
   "execution_count": null,
   "metadata": {},
   "outputs": [],
   "source": [
    "s = 'Newton'\n",
    "s_rev = ''\n",
    "for i in range(len(s)):\n",
    "    s_rev += s[len(s) - 1 - i]\n",
    "    # Print out intermediate results to check our logic\n",
    "    print(s_rev)\n",
    "\n",
    "print(s_rev)"
   ]
  },
  {
   "cell_type": "code",
   "execution_count": null,
   "metadata": {},
   "outputs": [],
   "source": []
  }
 ],
 "metadata": {
  "anaconda-cloud": {},
  "kernelspec": {
   "display_name": "Python [conda env:datasci]",
   "language": "python",
   "name": "conda-env-datasci-py"
  },
  "language_info": {
   "codemirror_mode": {
    "name": "ipython",
    "version": 3
   },
   "file_extension": ".py",
   "mimetype": "text/x-python",
   "name": "python",
   "nbconvert_exporter": "python",
   "pygments_lexer": "ipython3",
   "version": "3.13.2"
  }
 },
 "nbformat": 4,
 "nbformat_minor": 4
}
