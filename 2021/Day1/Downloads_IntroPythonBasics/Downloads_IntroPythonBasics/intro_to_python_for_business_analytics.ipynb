{
 "cells": [
  {
   "cell_type": "markdown",
   "metadata": {
    "slideshow": {
     "slide_type": "slide"
    }
   },
   "source": [
    "# Intro to Python for business analytics"
   ]
  },
  {
   "cell_type": "markdown",
   "metadata": {
    "slideshow": {
     "slide_type": "slide"
    }
   },
   "source": [
    "# Outline\n",
    "\n",
    "* Overview of Python\n",
    "* Working with Jupyter notebooks\n",
    "* Learning Python via analysis and visualization of some healthcare data\n",
    "    \n",
    "    - Basic math, numpy, basic plots\n",
    "    - Loops, lists, file globbing\n",
    "    - Conditional logic, dictionaries and reading files"
   ]
  },
  {
   "cell_type": "markdown",
   "metadata": {
    "slideshow": {
     "slide_type": "slide"
    }
   },
   "source": [
    "# What is Python?\n",
    "\n",
    "* Widely used, general purpose programming language\n",
    "* Designed to be readable and require less code than C-like languages\n",
    "* Supports multiple programming paradigms (OO, procedural, functional)\n",
    "* Dynamic typing (“duck” typing), automatic memory management, full featured standard library (“batteries included”)\n",
    "* Has caught on like wildfire in the analytics and scientific computing community\n",
    "    - great “scripting” language\n",
    "    - huge ecosystem of sci-computing related libraries\n",
    "    - some credit data science with greatly contributing to the popularity and widespread use of Python"
   ]
  },
  {
   "cell_type": "markdown",
   "metadata": {
    "slideshow": {
     "slide_type": "slide"
    }
   },
   "source": [
    "# The Zen of Python"
   ]
  },
  {
   "cell_type": "code",
   "execution_count": null,
   "metadata": {
    "slideshow": {
     "slide_type": "subslide"
    }
   },
   "outputs": [],
   "source": [
    "import this"
   ]
  },
  {
   "cell_type": "markdown",
   "metadata": {
    "slideshow": {
     "slide_type": "slide"
    }
   },
   "source": [
    "# ... design principles\n",
    "\n",
    "Designed to be extensible - users create importable libraries\n",
    "\n",
    "Offers choice but \n",
    "\n",
    "> there should be one—and preferably only one—obvious way to do it\n",
    "\n",
    "--> **the Pythonic way**\n",
    "\n",
    "but not dogmatic about it"
   ]
  },
  {
   "cell_type": "markdown",
   "metadata": {
    "slideshow": {
     "slide_type": "slide"
    }
   },
   "source": [
    "# Python milestones\n",
    "\n",
    "* 1989 – [Guido van Rossum](https://gvanrossum.github.io/) begins implementation of Python\n",
    "Guido still heavily involved but retired as BDFL in 2018\n",
    "* 2000 - Python 2.0 released \n",
    "* 2008, 2010 - Python 2.6, 2.7 released - widely used\n",
    "* 2008 - Python 3.0 released\n",
    "    - a major, “backwards incompatible” release meant to fix structural problems in Python 2\n",
    "    - adoption is pretty widespread at this point\n",
    "    - no new development on Python 2.7.x\n",
    "    - We will use Python 3.8.x or newer in our class\n",
    "* 2012 [Anaconda Python distribution](https://www.anaconda.com/products/individual) data science\n",
    "* 2021 Python 3.10 released\n"
   ]
  },
  {
   "cell_type": "markdown",
   "metadata": {
    "slideshow": {
     "slide_type": "slide"
    }
   },
   "source": [
    "# Some features\n",
    "\n",
    "* **Modular design:** [core language](https://www.python.org/) + [many contributed libraries](https://pypi.python.org/pypi)\n",
    "core language has large standard library (“batteries included”)\n",
    "* **Strong graphics:** [matplotlib](http://matplotlib.org/), [seaborn](https://stanford.edu/~mwaskom/software/seaborn/), and [more](https://www.analyticsvidhya.com/blog/2020/03/6-data-visualization-python-libraries/) allow creation of sophisticated and beautiful graphs\n",
    "* **Multiple use modes:**\n",
    "    - Interactive: IDLE, IPython, Jupyter (consoles and browser based notebooks)\n",
    "scripts (programs)\n",
    "    - Python is a full-featured programming language\n",
    "* **Vibrant user community:**\n",
    "    - [StackOverflow](http://stackoverflow.com/questions/tagged/python), http://planet.python.org/, and our course website has links to tons of relevant resources\n",
    "    - If there's some feature you need, chances are, someone has created a library for it. If not, you can always create it yourself."
   ]
  },
  {
   "cell_type": "markdown",
   "metadata": {
    "slideshow": {
     "slide_type": "slide"
    }
   },
   "source": [
    "# The Python scientific computing stack\n",
    "\n",
    "## https://www.scipy.org/\n",
    "\n",
    "![scipy](img/scipy.jpg)"
   ]
  },
  {
   "cell_type": "code",
   "execution_count": null,
   "metadata": {},
   "outputs": [],
   "source": [
    "Image(\"img/scipy.jpg\")"
   ]
  },
  {
   "cell_type": "markdown",
   "metadata": {
    "slideshow": {
     "slide_type": "slide"
    }
   },
   "source": [
    "# Python is free software\n",
    "\n",
    "* Python is free, both as in beer and in speech\n",
    "* With free software, you are granted\n",
    "    - The freedom to run the program, for any purpose (**freedom 0**).\n",
    "    - The freedom to study how the program works, and adapt it to your needs (**freedom 1**). Access to the source code is a precondition for this.\n",
    "    - The freedom to redistribute copies so you can help your neighbor (**freedom 2**).\n",
    "    - The freedom to improve the program, and release your improvements to the public, so that the whole community benefits (**freedom 3**). Access to the source code is a precondition for this.\n",
    "* Linux, R, Python and a JILLION more software packages are free\n",
    "* This entire course (except for Camastia for the videos) was developed with free software\n",
    "        Linux, VirtualBox, LibreOffice, R, Anaconda Python, Geany, Firefox, Moodle, pandoc, git"
   ]
  },
  {
   "cell_type": "markdown",
   "metadata": {
    "slideshow": {
     "slide_type": "slide"
    }
   },
   "source": [
    "# Why Python and/or R for analytics\n",
    "\n",
    "* Both Python and R are widely used in the data science and business analytics worlds\n",
    "* A quote from [Enterprise Data Analysis and Visualization: An Interview Study](http://web.cse.ohio-state.edu/~machiraju.1/teaching/CSE5544/Visweek2012/vast/papers/kandel.pdf) on the growing need for technically adept analysts:\n",
    "    - When discussing recruitment, one Chief Scientist said “analysts that can’t program are disenfranchised here”\n",
    "* Both support a combination of interactive use via tools like IPython and R Studio along with programmatic use via text scripting\n",
    "* Huge communities and ecosystems supporting Python and R for analytics work\n",
    "* Both facilitate [reproducible analysis](https://www.coursera.org/learn/reproducible-research)\n",
    "* Some things that are simply hideously difficult to do in tools like Excel or a database, are simple in Python and/or R\n",
    "    - Group By or Pivoting type analysis for operations such as percentiles\n",
    "    - [Small multiples](https://ggplot2-book.org/facet.html) and other complex graphing/charting/plotting\n",
    "    - Documenting and reproducing complex series of data cleaning and transformations"
   ]
  },
  {
   "cell_type": "markdown",
   "metadata": {
    "slideshow": {
     "slide_type": "slide"
    }
   },
   "source": [
    "# Some cons of Python for analytics\n",
    "\n",
    "* While there are thousands of contributed libraries, can be hard to find what you need\n",
    "* Packaging system is a little nightmarish but getting better\n",
    "* The Python 2 v Python 3 controversy is distracting but is just about done\n",
    "* For super computationally heavy work, Python might have some speed issues\n",
    "\n",
    "Ummm, I can't think of any more\n",
    "\n",
    "IMHO, pros greatly outweigh cons"
   ]
  },
  {
   "cell_type": "markdown",
   "metadata": {
    "slideshow": {
     "slide_type": "slide"
    }
   },
   "source": [
    "# Starting to learn Python\n",
    "\n",
    "* Hello World! a bunch of ways\n",
    "* Learn the fundamentals of Python via data analysis tasks\n",
    "    - Basic math, numpy, basic plots, writing functions, loops, lists, file globbing, conditional logic and images\n",
    "\n",
    "* We'll do this by working through a nice set of tutorials from [Software Carpentry](https://software-carpentry.org/lessons/) (that I've modified for our class) using [Jupyter notebooks](https://jupyter.org/) \n",
    "    - problem based using a simple healthcare related dataset\n",
    "    - facilitate reproducible, well documented analyses (much like R Markdown)\n",
    "    - mix Markdown + Python and can turn into HTML and other formats\n",
    "* You will get a ton of hands-on experience with Python and Jupyter notebooks\n",
    "* later we'll use IDEs like [Spyder](https://www.spyder-ide.org/) or [PyCharm](https://www.jetbrains.com/help/pycharm/quick-start-guide.html)\n",
    "* Then we'll spend some time learning:\n",
    "    - [pandas](https://pandas.pydata.org/), the go-to library for data analysis \n",
    "    - [matplotlib](https://matplotlib.org/) & [Seaborn](https://seaborn.pydata.org/) for plotting \n",
    "    - [scikit-learn](https://scikit-learn.org/stable/) for machine learning"
   ]
  },
  {
   "cell_type": "markdown",
   "metadata": {
    "slideshow": {
     "slide_type": "slide"
    }
   },
   "source": [
    "# Hello World!\n",
    "\n",
    "`hello_world.py` is in Downloads folder\n",
    "\n",
    "Let's `cat hello_world.py`\n",
    "\n",
    "We can run a shell command directly from this Jupyter notebook using the ! operator.\n"
   ]
  },
  {
   "cell_type": "code",
   "execution_count": null,
   "metadata": {
    "scrolled": true,
    "slideshow": {
     "slide_type": "subslide"
    }
   },
   "outputs": [],
   "source": [
    "# Linux\n",
    "!cat hello_world.py"
   ]
  },
  {
   "cell_type": "code",
   "execution_count": null,
   "metadata": {},
   "outputs": [],
   "source": [
    "# Windows\n",
    "!type hello_world.py"
   ]
  },
  {
   "cell_type": "markdown",
   "metadata": {
    "slideshow": {
     "slide_type": "subslide"
    }
   },
   "source": [
    "## Running via python at the command line\n",
    "\n",
    "Let's open a terminal window in that folder by browsing to it in the File Manager and hitting F4\n",
    "\n",
    "    $python hello_world.py \n",
    "\n"
   ]
  },
  {
   "cell_type": "markdown",
   "metadata": {
    "slideshow": {
     "slide_type": "subslide"
    }
   },
   "source": [
    "## Running via Jupyter notebook\n",
    "\n",
    "We can type the whole `hello_world.py` program within a single cell."
   ]
  },
  {
   "cell_type": "code",
   "execution_count": 3,
   "metadata": {
    "slideshow": {
     "slide_type": "subslide"
    }
   },
   "outputs": [
    {
     "name": "stdout",
     "output_type": "stream",
     "text": [
      "Hello, World!\n"
     ]
    }
   ],
   "source": [
    "print(\"Hello, World!\")"
   ]
  },
  {
   "cell_type": "markdown",
   "metadata": {
    "slideshow": {
     "slide_type": "subslide"
    }
   },
   "source": [
    "## Running via Spyder\n",
    "\n",
    "We'll be running Spyder later as we go through the notebooks for this session."
   ]
  },
  {
   "cell_type": "markdown",
   "metadata": {
    "slideshow": {
     "slide_type": "slide"
    }
   },
   "source": [
    "# Python Basics\n",
    "\n",
    "* `01-basics-lookahead-pcda.ipynb`\n",
    "    - variables, numpy, math, peek at plotting and dataframes\n",
    "* `02-loop-conditionals-pcda.ipynb`\n",
    "    - repeating actions and using if-then-else logic\n",
    "* `03-lists-pcda.ipynb`\n",
    "    - flexible data storage, indexing and slicing\n",
    "* `04-intro-dictionaries-readingfiles-pcda.ipynb`\n",
    "    - another storage container, more on reading data files\n",
    "* `05-file-globbing-pcda.ipynb`\n",
    "    - processing a bunch of data files\n",
    "* `06-more-on-conditions-pcda.ipynb`\n",
    "    - more on conditional logic and truthiness"
   ]
  },
  {
   "cell_type": "code",
   "execution_count": null,
   "metadata": {},
   "outputs": [],
   "source": []
  }
 ],
 "metadata": {
  "kernelspec": {
   "display_name": "Python 3 (ipykernel)",
   "language": "python",
   "name": "python3"
  },
  "language_info": {
   "codemirror_mode": {
    "name": "ipython",
    "version": 3
   },
   "file_extension": ".py",
   "mimetype": "text/x-python",
   "name": "python",
   "nbconvert_exporter": "python",
   "pygments_lexer": "ipython3",
   "version": "3.9.7"
  }
 },
 "nbformat": 4,
 "nbformat_minor": 4
}
