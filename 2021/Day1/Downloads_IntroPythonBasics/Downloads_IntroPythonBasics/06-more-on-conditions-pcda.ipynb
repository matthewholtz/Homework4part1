{
 "cells": [
  {
   "cell_type": "markdown",
   "metadata": {},
   "source": [
    "# Lesson 6 - More on conditional logic and boolean truthiness\n",
    "\n",
    "## Learning Objectives\n",
    "\n",
    "* Use conditional logic to highlight suspect data\n",
    "* Exploring intermediate values to gain understanding\n",
    "* What is true?\n",
    "\n",
    "In our last lesson, we discovered something suspicious was going on\n",
    "in our inflammation data by drawing some plots.\n",
    "How can we use Python to automatically recognize the different features we saw,\n",
    "and take a different action for each? In this lesson, we'll learn how to write code that\n",
    "runs only when certain conditions are true."
   ]
  },
  {
   "cell_type": "code",
   "execution_count": 1,
   "metadata": {},
   "outputs": [],
   "source": [
    "import numpy as np"
   ]
  },
  {
   "cell_type": "code",
   "execution_count": 2,
   "metadata": {},
   "outputs": [],
   "source": [
    "# Read data file\n",
    "data = np.loadtxt(fname='data/inflammation-03.csv', delimiter=',')"
   ]
  },
  {
   "cell_type": "markdown",
   "metadata": {},
   "source": [
    "## Checking our Data\n",
    "\n",
    "We saw how conditionals work in a previous notebook and now\n",
    "we can use them to check for the suspicious features we saw in our inflammation data.\n",
    "In the first couple of plots, the maximum inflammation per day\n",
    "seemed to rise like a straight line, one unit per day.\n",
    "We can check for this inside the `for` loop we wrote with the following conditional:"
   ]
  },
  {
   "cell_type": "code",
   "execution_count": 3,
   "metadata": {},
   "outputs": [],
   "source": [
    "if data.max(axis=0)[0] == 0 and data.max(axis=0)[20] == 20:\n",
    "    print('Suspicious looking maxima!')"
   ]
  },
  {
   "cell_type": "markdown",
   "metadata": {},
   "source": [
    "We also saw a different problem in the third dataset;\n",
    "the minima per day were all zero (looks like a healthy person snuck into our study).\n",
    "We can also check for this with an `elif` condition:"
   ]
  },
  {
   "cell_type": "code",
   "execution_count": null,
   "metadata": {},
   "outputs": [],
   "source": [
    "elif data.min(axis=0).sum() == 0:\n",
    "    print('Minima add up to zero!')"
   ]
  },
  {
   "cell_type": "markdown",
   "metadata": {},
   "source": [
    "And if neither of these conditions are true, we can use `else` to give the all-clear:"
   ]
  },
  {
   "cell_type": "code",
   "execution_count": null,
   "metadata": {},
   "outputs": [],
   "source": [
    "else:\n",
    "    print('Seems OK!')"
   ]
  },
  {
   "cell_type": "markdown",
   "metadata": {},
   "source": [
    "Let's test that out:"
   ]
  },
  {
   "cell_type": "code",
   "execution_count": 4,
   "metadata": {},
   "outputs": [
    {
     "name": "stdout",
     "output_type": "stream",
     "text": [
      "Minima add up to zero!\n"
     ]
    }
   ],
   "source": [
    "# Check for data strangeness\n",
    "if data.max(axis=0)[0] == 0 and data.max(axis=0)[20] == 20:\n",
    "    print('Suspicious looking maxima!')\n",
    "elif data.min(axis=0).sum() == 0:\n",
    "    print('Minima add up to zero!')\n",
    "else:\n",
    "    print('Seems OK!')"
   ]
  },
  {
   "cell_type": "markdown",
   "metadata": {},
   "source": [
    "### Exploring code\n",
    "As you look at the examples above, you might find yourself wondering about certain\n",
    "parts of the code. For example, what is `data.max(axis=0)[0]`? Use your detective skills\n",
    "along with the Jupyter notebook to explore such things. For example:"
   ]
  },
  {
   "cell_type": "code",
   "execution_count": 5,
   "metadata": {},
   "outputs": [
    {
     "name": "stdout",
     "output_type": "stream",
     "text": [
      "[ 0.  0.  1.  3.  1.  5.  7.  7.  6. 12.  6. 14.  9.  6. 17. 17.  9. 20.\n",
      " 17. 16. 12. 17. 10. 19. 16.  8. 16.  8. 14.  6. 12. 11.  5.  7.  6.  3.\n",
      "  3.  1.  0.  0.]\n",
      "<class 'numpy.ndarray'>\n",
      "40\n",
      "(40,)\n"
     ]
    }
   ],
   "source": [
    "# What is data.max(axis=0)?\n",
    "d = data.max(axis=0)\n",
    "print(d)\n",
    "print(type(d))\n",
    "print(len(d))\n",
    "print(d.shape)"
   ]
  },
  {
   "cell_type": "code",
   "execution_count": 6,
   "metadata": {},
   "outputs": [
    {
     "data": {
      "text/plain": [
       "20.0"
      ]
     },
     "execution_count": 6,
     "metadata": {},
     "output_type": "execute_result"
    }
   ],
   "source": [
    "d.max()"
   ]
  },
  {
   "cell_type": "markdown",
   "metadata": {},
   "source": [
    "In this way,\n",
    "we have asked Python to do something different depending on the condition of our data.\n",
    "Here we printed messages in all cases,\n",
    "but we could also imagine not using the `else` catch-all\n",
    "so that messages are only printed when something is wrong,\n",
    "freeing us from having to manually examine every plot for features we've seen before\n",
    "\n",
    "## What is truth?\n",
    "\n",
    "`True` and `False` are special words in Python called `booleans` which represent true\n",
    "and false statements. However, they aren't the only values in Python that are true and false.\n",
    "In fact, *any* value can be used in an `if` or `elif`.\n",
    "After reading and running the code below,\n",
    "explain what the rule is for which values are considered true and which are considered false.\n",
    "\n",
    "~~~\n",
    "if '':\n",
    "    print('empty string is true')\n",
    "if 'word':\n",
    "    print('word is true')\n",
    "if []:\n",
    "    print('empty list is true')\n",
    "if [1, 2, 3]:\n",
    "    print('non-empty list is true')\n",
    "if {\"a\": 1}:\n",
    "    print('non-empty dictionary is true')\n",
    "if {}:\n",
    "    print('empty dictionary is true')\n",
    "if 0:\n",
    "    print('zero is true')\n",
    "if 1:\n",
    "    print('one is true')\n",
    "if -1:\n",
    "    print('negative one is true')\n",
    "~~~\n",
    "\n",
    "## Close enough\n",
    "\n",
    "Write some conditions that print `True` if the variable `a` is within 10% of the variable `b`\n",
    "and `False` otherwise.\n",
    "\n",
    "\n",
    "\n"
   ]
  },
  {
   "cell_type": "code",
   "execution_count": null,
   "metadata": {},
   "outputs": [],
   "source": []
  },
  {
   "cell_type": "code",
   "execution_count": null,
   "metadata": {},
   "outputs": [],
   "source": []
  }
 ],
 "metadata": {
  "anaconda-cloud": {},
  "kernelspec": {
   "display_name": "Python 3",
   "language": "python",
   "name": "python3"
  },
  "language_info": {
   "codemirror_mode": {
    "name": "ipython",
    "version": 3
   },
   "file_extension": ".py",
   "mimetype": "text/x-python",
   "name": "python",
   "nbconvert_exporter": "python",
   "pygments_lexer": "ipython3",
   "version": "3.8.8"
  }
 },
 "nbformat": 4,
 "nbformat_minor": 4
}
